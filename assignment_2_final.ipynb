{
  "nbformat": 4,
  "nbformat_minor": 0,
  "metadata": {
    "colab": {
      "name": "assignment_2_final.ipynb",
      "provenance": [],
      "collapsed_sections": [
        "OoYx2ElBeY6f"
      ],
      "toc_visible": true
    },
    "kernelspec": {
      "name": "python3",
      "display_name": "Python 3"
    },
    "language_info": {
      "name": "python"
    },
    "accelerator": "GPU"
  },
  "cells": [
    {
      "cell_type": "code",
      "source": [
        "import pandas as pd\n",
        "import numpy as np\n",
        "from sklearn import preprocessing\n",
        "from sklearn.model_selection import train_test_split\n",
        "from sklearn.metrics import classification_report\n",
        "from sklearn.decomposition import PCA\n",
        "import os\n",
        "import torch\n",
        "import torch.nn as nn\n",
        "import torch.nn.functional as F\n",
        "from torch.utils.data import TensorDataset, DataLoader\n",
        "import tqdm\n",
        "import gc\n",
        "from sklearn.ensemble import RandomForestClassifier"
      ],
      "metadata": {
        "id": "u-yrWT-Xoohy"
      },
      "execution_count": 1,
      "outputs": []
    },
    {
      "cell_type": "code",
      "execution_count": 2,
      "metadata": {
        "colab": {
          "base_uri": "https://localhost:8080/"
        },
        "id": "B1bW94rZoW-1",
        "outputId": "b10bbeb2-1b4c-4ad4-9687-0283607ea186"
      },
      "outputs": [
        {
          "output_type": "stream",
          "name": "stdout",
          "text": [
            "Mounted at /content/drive\n"
          ]
        }
      ],
      "source": [
        "from google.colab import drive\n",
        "drive.mount('/content/drive', force_remount = True)"
      ]
    },
    {
      "cell_type": "markdown",
      "source": [
        "# Task 1"
      ],
      "metadata": {
        "id": "yQtejZAb8qFB"
      }
    },
    {
      "cell_type": "markdown",
      "source": [
        "# Preprocessing\n"
      ],
      "metadata": {
        "id": "DNFiBdSn8i0K"
      }
    },
    {
      "cell_type": "code",
      "source": [
        "#load dataset\n",
        "df_tr = pd.read_csv('/content/drive/MyDrive/assignment_2/data_transaction.csv') "
      ],
      "metadata": {
        "id": "VULpuQthopk1"
      },
      "execution_count": 3,
      "outputs": []
    },
    {
      "cell_type": "code",
      "source": [
        "df_id = pd.read_csv('/content/drive/MyDrive/assignment_2/data_identity.csv')"
      ],
      "metadata": {
        "id": "JljtmKx_o3o7"
      },
      "execution_count": 4,
      "outputs": []
    },
    {
      "cell_type": "code",
      "source": [
        "gc.collect()"
      ],
      "metadata": {
        "colab": {
          "base_uri": "https://localhost:8080/"
        },
        "id": "qtmtCVaNMmN7",
        "outputId": "ba30a732-1155-4621-a12f-fbe612be063e"
      },
      "execution_count": 5,
      "outputs": [
        {
          "output_type": "execute_result",
          "data": {
            "text/plain": [
              "114"
            ]
          },
          "metadata": {},
          "execution_count": 5
        }
      ]
    },
    {
      "cell_type": "code",
      "source": [
        "# merge 2 datasets \n",
        "df = df_tr.set_index('TransactionID').join(df_id.set_index('TransactionID'))"
      ],
      "metadata": {
        "id": "BpOIRwyWo41J"
      },
      "execution_count": 6,
      "outputs": []
    },
    {
      "cell_type": "code",
      "source": [
        "count = 0\n",
        "nan_arr = []\n",
        "for i in df.columns:\n",
        "    if df[i].isna().sum()>200000:\n",
        "        count+=1\n",
        "        nan_arr.append(i)"
      ],
      "metadata": {
        "id": "bRqiNh2623v_"
      },
      "execution_count": 7,
      "outputs": []
    },
    {
      "cell_type": "code",
      "source": [
        "target = df[\"isFraud\"]"
      ],
      "metadata": {
        "id": "TvkPHdfU23t5"
      },
      "execution_count": 8,
      "outputs": []
    },
    {
      "cell_type": "code",
      "source": [
        "nan_arr.append(\"TransactionDT\")\n",
        "nan_arr.append(\"isFraud\")"
      ],
      "metadata": {
        "id": "QJ8VMtew23Qh"
      },
      "execution_count": 9,
      "outputs": []
    },
    {
      "cell_type": "code",
      "source": [
        "\n",
        "# drop useless features\n",
        "df = df.drop(nan_arr, axis = 1)\n",
        "#Label encoding of all categorical features\n",
        "for i in df.columns:\n",
        "    if df[i].dtype == np.dtype(object):\n",
        "        le = preprocessing.LabelEncoder()\n",
        "        df[i] = le.fit_transform(df[i])\n",
        "# scaling\n",
        "from sklearn.preprocessing import StandardScaler\n",
        "scaler = StandardScaler()\n",
        "df = scaler.fit_transform(df)\n",
        "stat_df = df"
      ],
      "metadata": {
        "id": "LEo9KDqhwS9f"
      },
      "execution_count": 10,
      "outputs": []
    },
    {
      "cell_type": "code",
      "source": [
        "gc.collect()"
      ],
      "metadata": {
        "colab": {
          "base_uri": "https://localhost:8080/"
        },
        "id": "wfR2szW_Mwvm",
        "outputId": "be3e3560-626f-45d5-9f1a-a5ad0412a328"
      },
      "execution_count": 11,
      "outputs": [
        {
          "output_type": "execute_result",
          "data": {
            "text/plain": [
              "50"
            ]
          },
          "metadata": {},
          "execution_count": 11
        }
      ]
    },
    {
      "cell_type": "code",
      "source": [
        "# to tensor!\n",
        "df = torch.torch.from_numpy(pd.DataFrame(df).values).to(torch.float32)\n",
        "# mask data\n",
        "Ind_df = torch.isnan(df)\n",
        "# merge data and mask\n",
        "data = torch.hstack([df,Ind_df])\n",
        "# train_test_split in my interpretation :)\n",
        "X_train = data[:int(len(data)*0.8)]\n",
        "X_test = data[int(len(data)*0.8):]"
      ],
      "metadata": {
        "id": "izOp4LFlpNiH"
      },
      "execution_count": 12,
      "outputs": []
    },
    {
      "cell_type": "code",
      "source": [
        "y_train = target[:int(len(data)*0.8)]\n",
        "y_test = target[int(len(data)*0.8):]"
      ],
      "metadata": {
        "id": "96tpzaBdPVQp"
      },
      "execution_count": 13,
      "outputs": []
    },
    {
      "cell_type": "code",
      "source": [
        "# dataloader for models\n",
        "data_loader = DataLoader(torch.nan_to_num(X_train, nan=1.0), batch_size=300)\n",
        "test_data_loader = DataLoader(torch.nan_to_num(X_test, nan=1.0), batch_size=300)"
      ],
      "metadata": {
        "id": "5QqxarsGpVtN"
      },
      "execution_count": 14,
      "outputs": []
    },
    {
      "cell_type": "code",
      "source": [
        "gc.collect()"
      ],
      "metadata": {
        "colab": {
          "base_uri": "https://localhost:8080/"
        },
        "id": "kCi_3-g4M5Pe",
        "outputId": "91196418-6d67-4461-bd69-a067c1954e88"
      },
      "execution_count": 15,
      "outputs": [
        {
          "output_type": "execute_result",
          "data": {
            "text/plain": [
              "200"
            ]
          },
          "metadata": {},
          "execution_count": 15
        }
      ]
    },
    {
      "cell_type": "code",
      "source": [
        "device = torch.device(\"cuda:0\" if torch.cuda.is_available() else \"cpu\")"
      ],
      "metadata": {
        "id": "Ma8DF6bAC2_O"
      },
      "execution_count": 16,
      "outputs": []
    },
    {
      "cell_type": "markdown",
      "source": [
        "Autoenoders"
      ],
      "metadata": {
        "id": "v63lZ23cpY-Z"
      }
    },
    {
      "cell_type": "markdown",
      "source": [
        "# Undercomplete autoencoder"
      ],
      "metadata": {
        "id": "OoYx2ElBeY6f"
      }
    },
    {
      "cell_type": "code",
      "source": [
        "class autoencoder(nn.Module):\n",
        "    def __init__(self, input_size, latent_dim):\n",
        "        super(autoencoder, self).__init__()\n",
        "        self.encoder = nn.Sequential(\n",
        "            nn.Linear(input_size, input_size//2),\n",
        "            nn.ReLU(True),\n",
        "            nn.Linear(input_size//2, input_size//3),\n",
        "            nn.Linear(input_size//3, input_size//4),\n",
        "            nn.Tanh(),\n",
        "            nn.Linear(input_size//4, latent_dim)\n",
        "          )\n",
        "        self.decoder = nn.Sequential(\n",
        "            nn.Linear(latent_dim, input_size//4),\n",
        "            nn.ReLU(True),\n",
        "            nn.Linear(input_size//4, input_size//3),\n",
        "            nn.Linear(input_size//3, input_size//2),\n",
        "            nn.Tanh(),\n",
        "            nn.Linear(input_size//2, input_size)\n",
        "          )\n",
        "        self.encoder.apply(self.__init_weights)\n",
        "        self.decoder.apply(self.__init_weights)\n",
        "        \n",
        "    def forward(self, x):\n",
        "        x = self.encoder(x)\n",
        "        x = self.decoder(x)\n",
        "        return x\n",
        "        \n",
        "        \n",
        "    \n",
        "    def encode(self,input):\n",
        "        return self.encoder(input)\n",
        "    \n",
        "    def __init_weights(self,m):\n",
        "      #Init the weights (optional)\n",
        "        if type(m) == nn.Linear:\n",
        "            torch.nn.init.xavier_uniform_(m.weight)\n",
        "            m.bias.data.fill_(0.01)"
      ],
      "metadata": {
        "id": "fiRZNtvTpbNK"
      },
      "execution_count": 17,
      "outputs": []
    },
    {
      "cell_type": "code",
      "source": [
        "learning_rate = 0.001\n",
        "num_epochs = 50\n",
        "AE = autoencoder(398,50).to(device)\n",
        "print(AE)\n",
        "\n",
        "criterion = nn.MSELoss()\n",
        "optimizer = torch.optim.Adagrad(AE.parameters(),lr=learning_rate)"
      ],
      "metadata": {
        "colab": {
          "base_uri": "https://localhost:8080/"
        },
        "id": "j91Txdoopeh_",
        "outputId": "9799dc1d-f98e-4db6-cd12-85b89d069c2c"
      },
      "execution_count": 18,
      "outputs": [
        {
          "output_type": "stream",
          "name": "stdout",
          "text": [
            "autoencoder(\n",
            "  (encoder): Sequential(\n",
            "    (0): Linear(in_features=398, out_features=199, bias=True)\n",
            "    (1): ReLU(inplace=True)\n",
            "    (2): Linear(in_features=199, out_features=132, bias=True)\n",
            "    (3): Linear(in_features=132, out_features=99, bias=True)\n",
            "    (4): Tanh()\n",
            "    (5): Linear(in_features=99, out_features=50, bias=True)\n",
            "  )\n",
            "  (decoder): Sequential(\n",
            "    (0): Linear(in_features=50, out_features=99, bias=True)\n",
            "    (1): ReLU(inplace=True)\n",
            "    (2): Linear(in_features=99, out_features=132, bias=True)\n",
            "    (3): Linear(in_features=132, out_features=199, bias=True)\n",
            "    (4): Tanh()\n",
            "    (5): Linear(in_features=199, out_features=398, bias=True)\n",
            "  )\n",
            ")\n"
          ]
        }
      ]
    },
    {
      "cell_type": "code",
      "source": [
        "temp_loss = 100000000\n",
        "best_on_test_model = 0\n",
        "best_epo_test = 0\n",
        "ae_loss = []\n",
        "for epoch in range(num_epochs):\n",
        "    epoch_loss = 0.0\n",
        "    test_loss = 0.0\n",
        "    for X in data_loader:\n",
        "        X = X[0].to(device)\n",
        "\n",
        "        optimizer.zero_grad()\n",
        "        # forward\n",
        "        output = AE(X)\n",
        "        loss = criterion(output, X)\n",
        "\n",
        "        # backward\n",
        "        loss.backward()\n",
        "        optimizer.step()\n",
        "\n",
        "        epoch_loss += loss.item()\n",
        "\n",
        "    ae_loss.append(loss.item())\n",
        "        \n",
        "        \n",
        "        #test\n",
        "    for t in test_data_loader: \n",
        "        t = t[0].to(device)\n",
        "        test_output = AE(t)\n",
        "        test_loss = criterion(test_output, t)\n",
        "\n",
        "        test_loss+= test_loss.item()\n",
        "            \n",
        "    if test_loss <= temp_loss:\n",
        "        temp_loss = test_loss\n",
        "        best_on_test_model = AE.state_dict()\n",
        "        best_epo_test = epoch\n",
        "        \n",
        "    print('train loss:  epoch [{}/{}], loss:{:.4f}'.format(epoch + 1, num_epochs, loss.item()))\n",
        "    print('test loss:  epoch [{}/{}], loss:{:.4f}'.format(epoch + 1, num_epochs, test_loss.item()))\n",
        "    print()\n",
        "print(\"loss on test: \",str(temp_loss))\n",
        "print(\"best epoch on test: \",str(best_epo_test))\n",
        "torch.save(best_on_test_model, \"/content/drive/MyDrive/AE_model\")"
      ],
      "metadata": {
        "colab": {
          "base_uri": "https://localhost:8080/"
        },
        "id": "iFUiWTZkpyTR",
        "outputId": "8fde5ba6-a36d-480d-868c-7ff731aa60cb"
      },
      "execution_count": null,
      "outputs": [
        {
          "output_type": "stream",
          "name": "stdout",
          "text": [
            "train loss:  epoch [1/50], loss:0.0336\n",
            "test loss:  epoch [1/50], loss:0.4347\n",
            "\n",
            "train loss:  epoch [2/50], loss:0.0242\n",
            "test loss:  epoch [2/50], loss:0.4188\n",
            "\n",
            "train loss:  epoch [3/50], loss:0.0199\n",
            "test loss:  epoch [3/50], loss:0.4060\n",
            "\n",
            "train loss:  epoch [4/50], loss:0.0170\n",
            "test loss:  epoch [4/50], loss:0.3954\n",
            "\n",
            "train loss:  epoch [5/50], loss:0.0148\n",
            "test loss:  epoch [5/50], loss:0.3879\n",
            "\n",
            "train loss:  epoch [6/50], loss:0.0132\n",
            "test loss:  epoch [6/50], loss:0.3829\n",
            "\n",
            "train loss:  epoch [7/50], loss:0.0120\n",
            "test loss:  epoch [7/50], loss:0.3801\n",
            "\n",
            "train loss:  epoch [8/50], loss:0.0111\n",
            "test loss:  epoch [8/50], loss:0.3778\n",
            "\n",
            "train loss:  epoch [9/50], loss:0.0104\n",
            "test loss:  epoch [9/50], loss:0.3760\n",
            "\n",
            "train loss:  epoch [10/50], loss:0.0098\n",
            "test loss:  epoch [10/50], loss:0.3738\n",
            "\n",
            "train loss:  epoch [11/50], loss:0.0094\n",
            "test loss:  epoch [11/50], loss:0.3713\n",
            "\n",
            "train loss:  epoch [12/50], loss:0.0090\n",
            "test loss:  epoch [12/50], loss:0.3691\n",
            "\n",
            "train loss:  epoch [13/50], loss:0.0088\n",
            "test loss:  epoch [13/50], loss:0.3670\n",
            "\n",
            "train loss:  epoch [14/50], loss:0.0086\n",
            "test loss:  epoch [14/50], loss:0.3649\n",
            "\n",
            "train loss:  epoch [15/50], loss:0.0084\n",
            "test loss:  epoch [15/50], loss:0.3627\n",
            "\n",
            "train loss:  epoch [16/50], loss:0.0082\n",
            "test loss:  epoch [16/50], loss:0.3608\n",
            "\n",
            "train loss:  epoch [17/50], loss:0.0081\n",
            "test loss:  epoch [17/50], loss:0.3589\n",
            "\n",
            "train loss:  epoch [18/50], loss:0.0079\n",
            "test loss:  epoch [18/50], loss:0.3568\n",
            "\n",
            "train loss:  epoch [19/50], loss:0.0078\n",
            "test loss:  epoch [19/50], loss:0.3549\n",
            "\n",
            "train loss:  epoch [20/50], loss:0.0077\n",
            "test loss:  epoch [20/50], loss:0.3532\n",
            "\n",
            "train loss:  epoch [21/50], loss:0.0076\n",
            "test loss:  epoch [21/50], loss:0.3513\n",
            "\n",
            "train loss:  epoch [22/50], loss:0.0076\n",
            "test loss:  epoch [22/50], loss:0.3491\n",
            "\n",
            "train loss:  epoch [23/50], loss:0.0075\n",
            "test loss:  epoch [23/50], loss:0.3478\n",
            "\n",
            "train loss:  epoch [24/50], loss:0.0074\n",
            "test loss:  epoch [24/50], loss:0.3459\n",
            "\n",
            "train loss:  epoch [25/50], loss:0.0073\n",
            "test loss:  epoch [25/50], loss:0.3441\n",
            "\n",
            "train loss:  epoch [26/50], loss:0.0073\n",
            "test loss:  epoch [26/50], loss:0.3421\n",
            "\n",
            "train loss:  epoch [27/50], loss:0.0072\n",
            "test loss:  epoch [27/50], loss:0.3407\n",
            "\n",
            "train loss:  epoch [28/50], loss:0.0072\n",
            "test loss:  epoch [28/50], loss:0.3390\n",
            "\n",
            "train loss:  epoch [29/50], loss:0.0071\n",
            "test loss:  epoch [29/50], loss:0.3373\n",
            "\n",
            "train loss:  epoch [30/50], loss:0.0071\n",
            "test loss:  epoch [30/50], loss:0.3354\n",
            "\n",
            "train loss:  epoch [31/50], loss:0.0070\n",
            "test loss:  epoch [31/50], loss:0.3339\n",
            "\n",
            "train loss:  epoch [32/50], loss:0.0070\n",
            "test loss:  epoch [32/50], loss:0.3323\n",
            "\n",
            "train loss:  epoch [33/50], loss:0.0069\n",
            "test loss:  epoch [33/50], loss:0.3307\n",
            "\n",
            "train loss:  epoch [34/50], loss:0.0069\n",
            "test loss:  epoch [34/50], loss:0.3293\n",
            "\n",
            "train loss:  epoch [35/50], loss:0.0068\n",
            "test loss:  epoch [35/50], loss:0.3279\n",
            "\n",
            "train loss:  epoch [36/50], loss:0.0068\n",
            "test loss:  epoch [36/50], loss:0.3263\n",
            "\n",
            "train loss:  epoch [37/50], loss:0.0067\n",
            "test loss:  epoch [37/50], loss:0.3250\n",
            "\n",
            "train loss:  epoch [38/50], loss:0.0067\n",
            "test loss:  epoch [38/50], loss:0.3237\n",
            "\n",
            "train loss:  epoch [39/50], loss:0.0067\n",
            "test loss:  epoch [39/50], loss:0.3222\n",
            "\n",
            "train loss:  epoch [40/50], loss:0.0066\n",
            "test loss:  epoch [40/50], loss:0.3211\n",
            "\n",
            "train loss:  epoch [41/50], loss:0.0066\n",
            "test loss:  epoch [41/50], loss:0.3198\n",
            "\n",
            "train loss:  epoch [42/50], loss:0.0066\n",
            "test loss:  epoch [42/50], loss:0.3185\n",
            "\n",
            "train loss:  epoch [43/50], loss:0.0065\n",
            "test loss:  epoch [43/50], loss:0.3174\n",
            "\n",
            "train loss:  epoch [44/50], loss:0.0065\n",
            "test loss:  epoch [44/50], loss:0.3163\n",
            "\n",
            "train loss:  epoch [45/50], loss:0.0065\n",
            "test loss:  epoch [45/50], loss:0.3153\n",
            "\n",
            "train loss:  epoch [46/50], loss:0.0064\n",
            "test loss:  epoch [46/50], loss:0.3143\n",
            "\n",
            "train loss:  epoch [47/50], loss:0.0064\n",
            "test loss:  epoch [47/50], loss:0.3135\n",
            "\n",
            "train loss:  epoch [48/50], loss:0.0064\n",
            "test loss:  epoch [48/50], loss:0.3125\n",
            "\n",
            "train loss:  epoch [49/50], loss:0.0063\n",
            "test loss:  epoch [49/50], loss:0.3115\n",
            "\n",
            "train loss:  epoch [50/50], loss:0.0063\n",
            "test loss:  epoch [50/50], loss:0.3108\n",
            "\n",
            "loss on test:  tensor(0.3108, device='cuda:0', grad_fn=<AddBackward0>)\n",
            "best epoch on test:  49\n"
          ]
        }
      ]
    },
    {
      "cell_type": "markdown",
      "source": [
        "autoencoders loss"
      ],
      "metadata": {
        "id": "rsLKCrVxHy4m"
      }
    },
    {
      "cell_type": "code",
      "source": [
        "import matplotlib.pyplot as plt\n",
        "# plot loss\n",
        "plt.plot(ae_loss)\n",
        "plt.show()"
      ],
      "metadata": {
        "colab": {
          "base_uri": "https://localhost:8080/",
          "height": 265
        },
        "id": "w8Iaq5faT7Fy",
        "outputId": "0444bcc5-8196-47b5-bc75-e66db3f9c994"
      },
      "execution_count": null,
      "outputs": [
        {
          "output_type": "display_data",
          "data": {
            "text/plain": [
              "<Figure size 432x288 with 1 Axes>"
            ],
            "image/png": "[encoded data removed]"
          },
          "metadata": {
            "needs_background": "light"
          }
        }
      ]
    },
    {
      "cell_type": "markdown",
      "source": [
        "Results of Autoencoder"
      ],
      "metadata": {
        "id": "QsH_VWaEqLML"
      }
    },
    {
      "cell_type": "code",
      "source": [
        "# load my model from drive\n",
        "AE.load_state_dict(torch.load(\"/content/drive/MyDrive/AE_model\"))\n",
        "AE.eval()\n",
        "train_data = []\n",
        "test_data = []\n",
        "# creating dataset for classification\n",
        "for i in data_loader:\n",
        "  i = i.to(device)\n",
        "  train_data.append(AE(i))\n",
        "for i in test_data_loader:\n",
        "  i = i.to(device)\n",
        "  test_data.append(AE(i))"
      ],
      "metadata": {
        "id": "UPn_lrjZFakW"
      },
      "execution_count": 21,
      "outputs": []
    },
    {
      "cell_type": "code",
      "source": [
        "# tensors to numpy\n",
        "X_train_AE = torch.cat(train_data).cpu().detach().numpy()\n",
        "X_test_AE = torch.cat(test_data).cpu().detach().numpy()\n",
        "gc.collect()"
      ],
      "metadata": {
        "colab": {
          "base_uri": "https://localhost:8080/"
        },
        "id": "6RYZELpeo3Gv",
        "outputId": "e964793a-c39a-4758-f2bc-22f62db58c40"
      },
      "execution_count": 22,
      "outputs": [
        {
          "output_type": "execute_result",
          "data": {
            "text/plain": [
              "140"
            ]
          },
          "metadata": {},
          "execution_count": 22
        }
      ]
    },
    {
      "cell_type": "code",
      "source": [
        "#finally , well known type and our dataset!!!\n",
        "X_train_AE_df = pd.DataFrame(X_train_AE[:,:199])\n",
        "X_test_AE_df = pd.DataFrame(X_test_AE[:,:199])\n",
        "\n",
        "# X_train_AE_df.to_csv('/content/drive/MyDrive/assignment_2/X_train_AE_df.csv', index=False)\n",
        "# X_test_AE_df.to_csv('/content/drive/MyDrive/assignment_2/X_test_AE_df.csv', index=False)"
      ],
      "metadata": {
        "id": "8MbUhtIYsum4"
      },
      "execution_count": 23,
      "outputs": []
    },
    {
      "cell_type": "markdown",
      "source": [
        "Classification on autoencoders dataset"
      ],
      "metadata": {
        "id": "Kaw4rwH264cT"
      }
    },
    {
      "cell_type": "code",
      "source": [
        "gc.collect()"
      ],
      "metadata": {
        "colab": {
          "base_uri": "https://localhost:8080/"
        },
        "id": "zsWCJKl7et8h",
        "outputId": "958ade71-2545-48cb-e31b-e77938d800b2"
      },
      "execution_count": 24,
      "outputs": [
        {
          "output_type": "execute_result",
          "data": {
            "text/plain": [
              "299"
            ]
          },
          "metadata": {},
          "execution_count": 24
        }
      ]
    },
    {
      "cell_type": "code",
      "source": [
        "# RandomForest model\n",
        "clf_ae = RandomForestClassifier(max_depth=15, n_jobs=-1)\n",
        "clf_ae.fit(X_train_AE_df , y_train)\n",
        "y_pred = clf_ae.predict(X_test_AE_df)"
      ],
      "metadata": {
        "id": "0Z_UGKVuBh3i"
      },
      "execution_count": 36,
      "outputs": []
    },
    {
      "cell_type": "code",
      "source": [
        "print(classification_report(y_test,y_pred))"
      ],
      "metadata": {
        "colab": {
          "base_uri": "https://localhost:8080/"
        },
        "id": "fqXifGRP1UxT",
        "outputId": "6767be22-2e2c-4e24-ddde-8fd50b4a6b8e"
      },
      "execution_count": 37,
      "outputs": [
        {
          "output_type": "stream",
          "name": "stdout",
          "text": [
            "              precision    recall  f1-score   support\n",
            "\n",
            "           0       0.97      1.00      0.98    114044\n",
            "           1       0.77      0.14      0.24      4064\n",
            "\n",
            "    accuracy                           0.97    118108\n",
            "   macro avg       0.87      0.57      0.61    118108\n",
            "weighted avg       0.96      0.97      0.96    118108\n",
            "\n"
          ]
        }
      ]
    },
    {
      "cell_type": "code",
      "source": [
        "gc.collect()"
      ],
      "metadata": {
        "colab": {
          "base_uri": "https://localhost:8080/"
        },
        "id": "gjGQWSdtaVqH",
        "outputId": "dadbfd39-00fe-4399-b670-be949a174313"
      },
      "execution_count": 38,
      "outputs": [
        {
          "output_type": "execute_result",
          "data": {
            "text/plain": [
              "142"
            ]
          },
          "metadata": {},
          "execution_count": 38
        }
      ]
    },
    {
      "cell_type": "markdown",
      "source": [
        "# Classification on statistical imputing aproach dataset"
      ],
      "metadata": {
        "id": "d40mf6fa4XkN"
      }
    },
    {
      "cell_type": "code",
      "source": [
        "# # creating dataset\n",
        "# stat_df = pd.concat([Fraud_df,Not_fraud_df],axis = 0)\n",
        "# stat_df = stat_df.sample(frac=1).reset_index(drop=True)"
      ],
      "metadata": {
        "id": "jAp3EspB401o"
      },
      "execution_count": null,
      "outputs": []
    },
    {
      "cell_type": "code",
      "source": [
        "# target = stat_df[\"isFraud\"]\n",
        "\n",
        "# stat_df = stat_df.drop([\"TransactionID\", \"TransactionDT\", \"isFraud\"], axis = 1)\n",
        "# # LabelEncoding\n",
        "# for i in stat_df.columns:\n",
        "#     if stat_df[i].dtype == np.dtype(object):\n",
        "#         le = preprocessing.LabelEncoder()\n",
        "#         stat_df[i] = le.fit_transform(stat_df[i])"
      ],
      "metadata": {
        "colab": {
          "base_uri": "https://localhost:8080/"
        },
        "id": "Bt2w_vDiCP0d",
        "outputId": "98b205b8-1296-4ec1-c841-a5427d9ac185"
      },
      "execution_count": null,
      "outputs": [
        {
          "output_type": "stream",
          "name": "stderr",
          "text": [
            "/usr/local/lib/python3.7/dist-packages/ipykernel_launcher.py:8: SettingWithCopyWarning: \n",
            "A value is trying to be set on a copy of a slice from a DataFrame.\n",
            "Try using .loc[row_indexer,col_indexer] = value instead\n",
            "\n",
            "See the caveats in the documentation: https://pandas.pydata.org/pandas-docs/stable/user_guide/indexing.html#returning-a-view-versus-a-copy\n",
            "  \n"
          ]
        }
      ]
    },
    {
      "cell_type": "code",
      "source": [
        "# nan imputing by puting column mean instead\n",
        "stat_df = pd.DataFrame(stat_df).apply(lambda x: x.fillna(x.mean()),axis=0)"
      ],
      "metadata": {
        "id": "HrTuw2T_DY6G"
      },
      "execution_count": 39,
      "outputs": []
    },
    {
      "cell_type": "code",
      "source": [
        "gc.collect()"
      ],
      "metadata": {
        "colab": {
          "base_uri": "https://localhost:8080/"
        },
        "id": "ym4bhwyBciFj",
        "outputId": "8bbb8fab-bf35-4383-80b3-18385755b02d"
      },
      "execution_count": 40,
      "outputs": [
        {
          "output_type": "execute_result",
          "data": {
            "text/plain": [
              "44"
            ]
          },
          "metadata": {},
          "execution_count": 40
        }
      ]
    },
    {
      "cell_type": "code",
      "source": [
        "# train_test_split\n",
        "X_train_stat = stat_df[:int(len(stat_df)*0.8)]\n",
        "X_test_stat = stat_df[int(len(stat_df)*0.8):]\n",
        "y_train_stat = target[:int(len(stat_df)*0.8)]\n",
        "y_test_stat = target[int(len(stat_df)*0.8):]"
      ],
      "metadata": {
        "id": "D47U2T18dH2L"
      },
      "execution_count": 41,
      "outputs": []
    },
    {
      "cell_type": "code",
      "source": [
        "# classification\n",
        "clf_ae_stat = RandomForestClassifier(max_depth=15)\n",
        "clf_ae_stat.fit(X_train_stat , y_train_stat)\n",
        "y_pred = clf_ae_stat.predict(X_test_stat)"
      ],
      "metadata": {
        "id": "_Y3LusEBDpY8"
      },
      "execution_count": 42,
      "outputs": []
    },
    {
      "cell_type": "code",
      "source": [
        "print(classification_report(y_test_stat,y_pred))"
      ],
      "metadata": {
        "colab": {
          "base_uri": "https://localhost:8080/"
        },
        "id": "eCVSHUwqcn8T",
        "outputId": "049a553a-0826-450a-8d69-97917ecbb455"
      },
      "execution_count": 43,
      "outputs": [
        {
          "output_type": "stream",
          "name": "stdout",
          "text": [
            "              precision    recall  f1-score   support\n",
            "\n",
            "           0       0.97      1.00      0.99    114044\n",
            "           1       0.83      0.26      0.40      4064\n",
            "\n",
            "    accuracy                           0.97    118108\n",
            "   macro avg       0.90      0.63      0.69    118108\n",
            "weighted avg       0.97      0.97      0.97    118108\n",
            "\n"
          ]
        }
      ]
    },
    {
      "cell_type": "markdown",
      "source": [
        "# Regularized autoencoder"
      ],
      "metadata": {
        "id": "n9rm6uUAejBm"
      }
    },
    {
      "cell_type": "markdown",
      "source": [
        "All further code almost same as in Undercomplete autoencoder part, so comments also same"
      ],
      "metadata": {
        "id": "aStGaf4zHhDN"
      }
    },
    {
      "cell_type": "code",
      "source": [
        "class reg_autoencoder(nn.Module):\n",
        "    def __init__(self, input_size, latent_dim):\n",
        "        super(reg_autoencoder, self).__init__()\n",
        "        self.encoder = nn.Sequential(\n",
        "            nn.Linear(input_size, input_size//2),\n",
        "            nn.ReLU(True),\n",
        "            nn.Linear(input_size//2, input_size//3),\n",
        "            nn.Linear(input_size//3, input_size//4),\n",
        "            nn.Tanh(),\n",
        "            nn.Linear(input_size//4, latent_dim)\n",
        "          )\n",
        "        self.decoder = nn.Sequential(\n",
        "            nn.Linear(latent_dim, input_size//4),\n",
        "            nn.ReLU(True),\n",
        "            nn.Linear(input_size//4, input_size//3),\n",
        "            nn.Linear(input_size//3, input_size//2),\n",
        "            nn.Tanh(),\n",
        "            nn.Linear(input_size//2, input_size)\n",
        "          )\n",
        "        self.encoder.apply(self.__init_weights)\n",
        "        self.decoder.apply(self.__init_weights)\n",
        "        \n",
        "    def forward(self, x):\n",
        "        x = self.encoder(x)\n",
        "        x = self.decoder(x)\n",
        "        return x\n",
        "        \n",
        "        \n",
        "    \n",
        "    def encode(self,input):\n",
        "        return self.encoder(input)\n",
        "    \n",
        "    def __init_weights(self,m):\n",
        "      #Init the weights (optional)\n",
        "        if type(m) == nn.Linear:\n",
        "            torch.nn.init.xavier_uniform_(m.weight)\n",
        "            m.bias.data.fill_(0.01)"
      ],
      "metadata": {
        "id": "XisVE3VWrJvP"
      },
      "execution_count": 17,
      "outputs": []
    },
    {
      "cell_type": "code",
      "source": [
        "learning_rate = 0.001\n",
        "num_epochs = 20\n",
        "reg_AE = reg_autoencoder(398,50).to(device)\n",
        "print(reg_AE)\n",
        "\n",
        "criterion = nn.MSELoss()\n",
        "optimizer = torch.optim.RMSprop(reg_AE.parameters(),lr=learning_rate)"
      ],
      "metadata": {
        "colab": {
          "base_uri": "https://localhost:8080/"
        },
        "id": "M3MahXl6NlIN",
        "outputId": "ff7491b1-6d8d-4c3a-a943-b3f2b09b3fbb"
      },
      "execution_count": 18,
      "outputs": [
        {
          "output_type": "stream",
          "name": "stdout",
          "text": [
            "reg_autoencoder(\n",
            "  (encoder): Sequential(\n",
            "    (0): Linear(in_features=398, out_features=199, bias=True)\n",
            "    (1): ReLU(inplace=True)\n",
            "    (2): Linear(in_features=199, out_features=132, bias=True)\n",
            "    (3): Linear(in_features=132, out_features=99, bias=True)\n",
            "    (4): Tanh()\n",
            "    (5): Linear(in_features=99, out_features=50, bias=True)\n",
            "  )\n",
            "  (decoder): Sequential(\n",
            "    (0): Linear(in_features=50, out_features=99, bias=True)\n",
            "    (1): ReLU(inplace=True)\n",
            "    (2): Linear(in_features=99, out_features=132, bias=True)\n",
            "    (3): Linear(in_features=132, out_features=199, bias=True)\n",
            "    (4): Tanh()\n",
            "    (5): Linear(in_features=199, out_features=398, bias=True)\n",
            "  )\n",
            ")\n"
          ]
        }
      ]
    },
    {
      "cell_type": "code",
      "source": [
        "temp_loss = 100000000\n",
        "best_on_test_model = 0\n",
        "best_epo_test = 0\n",
        "rae_loss = []\n",
        "for epoch in range(num_epochs):\n",
        "    epoch_loss = 0.0\n",
        "    test_loss = 0.0\n",
        "    for X in data_loader:\n",
        "        X = X[0].to(device)\n",
        "\n",
        "        optimizer.zero_grad()\n",
        "        # forward\n",
        "        output = reg_AE(X)\n",
        "        loss = criterion(output, X)\n",
        "\n",
        "        regul = 0.0\n",
        "        for param in reg_AE.parameters():\n",
        "            regul += torch.abs((torch.norm(param, 1)))\n",
        "        regul *= 0.00001\n",
        "\n",
        "        loss += regul\n",
        "\n",
        "        # backward\n",
        "        loss.backward()\n",
        "        optimizer.step()\n",
        "\n",
        "        epoch_loss += loss.item()\n",
        "\n",
        "    rae_loss.append(loss.item())        \n",
        "\n",
        "        #test\n",
        "    for t in test_data_loader: \n",
        "        t = t[0].to(device)\n",
        "        test_output = reg_AE(t)\n",
        "        test_loss = criterion(test_output, t)\n",
        "\n",
        "        test_loss+= test_loss.item()\n",
        "            \n",
        "    if test_loss <= temp_loss:\n",
        "        temp_loss = test_loss\n",
        "        best_on_test_model = reg_AE.state_dict()\n",
        "        best_epo_test = epoch\n",
        "        \n",
        "    print('train loss:  epoch [{}/{}], loss:{:.4f}'.format(epoch + 1, num_epochs, loss.item()))\n",
        "    print('test loss:  epoch [{}/{}], loss:{:.4f}'.format(epoch + 1, num_epochs, test_loss.item()))\n",
        "    print()\n",
        "print(\"loss on test: \",str(temp_loss))\n",
        "print(\"best epoch on test: \",str(best_epo_test))\n",
        "torch.save(best_on_test_model, \"/content/drive/MyDrive/RAE_model\")"
      ],
      "metadata": {
        "colab": {
          "base_uri": "https://localhost:8080/"
        },
        "id": "ZvhJxMPnPHPj",
        "outputId": "9708d104-4210-4c51-bbd0-efb2003273a4"
      },
      "execution_count": null,
      "outputs": [
        {
          "output_type": "stream",
          "name": "stdout",
          "text": [
            "train loss:  epoch [1/20], loss:0.0868\n",
            "test loss:  epoch [1/20], loss:0.3814\n",
            "\n",
            "train loss:  epoch [2/20], loss:0.0739\n",
            "test loss:  epoch [2/20], loss:0.3862\n",
            "\n",
            "train loss:  epoch [3/20], loss:0.0612\n",
            "test loss:  epoch [3/20], loss:0.3828\n",
            "\n",
            "train loss:  epoch [4/20], loss:0.0540\n",
            "test loss:  epoch [4/20], loss:0.3629\n",
            "\n",
            "train loss:  epoch [5/20], loss:0.0511\n",
            "test loss:  epoch [5/20], loss:0.3511\n",
            "\n",
            "train loss:  epoch [6/20], loss:0.0470\n",
            "test loss:  epoch [6/20], loss:0.3415\n",
            "\n",
            "train loss:  epoch [7/20], loss:0.0441\n",
            "test loss:  epoch [7/20], loss:0.3303\n",
            "\n",
            "train loss:  epoch [8/20], loss:0.0429\n",
            "test loss:  epoch [8/20], loss:0.3249\n",
            "\n",
            "train loss:  epoch [9/20], loss:0.0406\n",
            "test loss:  epoch [9/20], loss:0.3158\n",
            "\n",
            "train loss:  epoch [10/20], loss:0.0408\n",
            "test loss:  epoch [10/20], loss:0.3347\n",
            "\n",
            "train loss:  epoch [11/20], loss:0.0396\n",
            "test loss:  epoch [11/20], loss:0.3418\n",
            "\n",
            "train loss:  epoch [12/20], loss:0.0385\n",
            "test loss:  epoch [12/20], loss:0.3354\n",
            "\n",
            "train loss:  epoch [13/20], loss:0.0386\n",
            "test loss:  epoch [13/20], loss:0.3628\n",
            "\n",
            "train loss:  epoch [14/20], loss:0.0369\n",
            "test loss:  epoch [14/20], loss:0.3589\n",
            "\n",
            "train loss:  epoch [15/20], loss:0.0381\n",
            "test loss:  epoch [15/20], loss:0.3700\n",
            "\n",
            "train loss:  epoch [16/20], loss:0.0373\n",
            "test loss:  epoch [16/20], loss:0.3557\n",
            "\n",
            "train loss:  epoch [17/20], loss:0.0381\n",
            "test loss:  epoch [17/20], loss:0.3673\n",
            "\n",
            "train loss:  epoch [18/20], loss:0.0374\n",
            "test loss:  epoch [18/20], loss:0.3869\n",
            "\n",
            "train loss:  epoch [19/20], loss:0.0375\n",
            "test loss:  epoch [19/20], loss:0.3793\n",
            "\n",
            "train loss:  epoch [20/20], loss:0.0363\n",
            "test loss:  epoch [20/20], loss:0.3796\n",
            "\n",
            "loss on test:  tensor(0.3158, device='cuda:0', grad_fn=<AddBackward0>)\n",
            "best epoch on test:  8\n"
          ]
        }
      ]
    },
    {
      "cell_type": "code",
      "source": [
        "import matplotlib.pyplot as plt\n",
        "\n",
        "plt.plot(rae_loss)\n",
        "plt.show()"
      ],
      "metadata": {
        "colab": {
          "base_uri": "https://localhost:8080/",
          "height": 265
        },
        "id": "rTWlX1GUfql3",
        "outputId": "83d49045-2ae5-4519-ce92-19b9ac72b736"
      },
      "execution_count": null,
      "outputs": [
        {
          "output_type": "display_data",
          "data": {
            "text/plain": [
              "<Figure size 432x288 with 1 Axes>"
            ],
            "image/png": "[encoded data removed]"
          },
          "metadata": {
            "needs_background": "light"
          }
        }
      ]
    },
    {
      "cell_type": "markdown",
      "source": [
        "Classification on Reg Autoencoders dataset"
      ],
      "metadata": {
        "id": "MxKsDKrQiMZ5"
      }
    },
    {
      "cell_type": "code",
      "source": [
        "reg_AE.load_state_dict(torch.load(\"/content/drive/MyDrive/RAE_model\"))\n",
        "reg_AE.eval()\n",
        "train_data = []\n",
        "test_data = []\n",
        "for i in data_loader:\n",
        "  i = i.to(device)\n",
        "  train_data.append(reg_AE(i))\n",
        "for i in test_data_loader:\n",
        "  i = i.to(device)\n",
        "  test_data.append(reg_AE(i))"
      ],
      "metadata": {
        "id": "ZTGSez7JfqkK"
      },
      "execution_count": 19,
      "outputs": []
    },
    {
      "cell_type": "code",
      "source": [
        "X_train_RAE = torch.cat(train_data).cpu().detach().numpy()\n",
        "X_test_RAE = torch.cat(test_data).cpu().detach().numpy()\n",
        "gc.collect()"
      ],
      "metadata": {
        "colab": {
          "base_uri": "https://localhost:8080/"
        },
        "id": "rDoBUzdvfqgY",
        "outputId": "26c47f39-538f-4617-ded7-2e3b87c49c9e"
      },
      "execution_count": 20,
      "outputs": [
        {
          "output_type": "execute_result",
          "data": {
            "text/plain": [
              "50"
            ]
          },
          "metadata": {},
          "execution_count": 20
        }
      ]
    },
    {
      "cell_type": "code",
      "source": [
        "X_train_RAE_df = pd.DataFrame(X_train_RAE[:,:199])\n",
        "X_test_RAE_df = pd.DataFrame(X_test_RAE[:,:199])"
      ],
      "metadata": {
        "id": "55Tzh3-dfqdu"
      },
      "execution_count": 21,
      "outputs": []
    },
    {
      "cell_type": "code",
      "source": [
        "# X_train_RAE_df.to_csv('/content/drive/MyDrive/assignment_2/X_train_RAE_df.csv', index=False)\n",
        "# X_test_RAE_df.to_csv('/content/drive/MyDrive/assignment_2/X_test_RAE_df.csv', index=False)"
      ],
      "metadata": {
        "id": "bHPMuPi4ht8K"
      },
      "execution_count": null,
      "outputs": []
    },
    {
      "cell_type": "code",
      "source": [
        "from sklearn.ensemble import RandomForestClassifier\n",
        "clf_rae = RandomForestClassifier(max_depth=15)\n",
        "clf_rae.fit(X_train_RAE_df , y_train)\n",
        "y_pred = clf_rae.predict(X_test_RAE_df) "
      ],
      "metadata": {
        "id": "zCiYZ2y2fqZ6"
      },
      "execution_count": 23,
      "outputs": []
    },
    {
      "cell_type": "code",
      "source": [
        "print(classification_report(y_test,y_pred))"
      ],
      "metadata": {
        "colab": {
          "base_uri": "https://localhost:8080/"
        },
        "id": "MXjfakILfqOc",
        "outputId": "1048b92e-6feb-4a2b-c8e0-e6246b634c1d"
      },
      "execution_count": 24,
      "outputs": [
        {
          "output_type": "stream",
          "name": "stdout",
          "text": [
            "              precision    recall  f1-score   support\n",
            "\n",
            "           0       0.97      1.00      0.98    114044\n",
            "           1       0.75      0.13      0.22      4064\n",
            "\n",
            "    accuracy                           0.97    118108\n",
            "   macro avg       0.86      0.56      0.60    118108\n",
            "weighted avg       0.96      0.97      0.96    118108\n",
            "\n"
          ]
        }
      ]
    },
    {
      "cell_type": "markdown",
      "source": [
        "# Variational autoencoder"
      ],
      "metadata": {
        "id": "BXdb9CcNepDQ"
      }
    },
    {
      "cell_type": "code",
      "source": [
        "class VAE(nn.Module):\n",
        "    def __init__(self, input_size=398, h_dim=200, z_dim=20):\n",
        "        super(VAE, self).__init__()\n",
        "        self.fc1 = nn.Linear(input_size, h_dim)\n",
        "        self.fc2 = nn.Linear(h_dim, z_dim)\n",
        "        self.fc3 = nn.Linear(h_dim, z_dim)\n",
        "        self.fc4 = nn.Linear(z_dim, h_dim)\n",
        "        self.fc5 = nn.Linear(h_dim, input_size//2)\n",
        "        \n",
        "    def encode(self, x):\n",
        "        h = F.relu(self.fc1(x))\n",
        "        return self.fc2(h), self.fc3(h)\n",
        "    \n",
        "    def reparameterize(self, mu, log_var):\n",
        "        std = torch.exp(log_var/2)\n",
        "        eps = torch.randn_like(std)\n",
        "        return mu + eps * std\n",
        "\n",
        "    def decode(self, z):\n",
        "        h = F.relu(self.fc4(z))\n",
        "        return F.sigmoid(self.fc5(h))\n",
        "    \n",
        "    def forward(self, x):\n",
        "        mu, log_var = self.encode(x[0]*x[1])\n",
        "        z = self.reparameterize(mu, log_var)\n",
        "        x_reconst = self.decode(z)\n",
        "        return x_reconst, mu, log_var\n",
        "\n",
        "model = VAE()\n",
        "optimizer = torch.optim.Adam(model.parameters(), lr=0.001)"
      ],
      "metadata": {
        "id": "R8PkjCkJVgcm"
      },
      "execution_count": null,
      "outputs": []
    },
    {
      "cell_type": "code",
      "source": [
        "# Start training\n",
        "cri = nn.MSELoss()\n",
        "vae_loss = []\n",
        "num_epochs = 30\n",
        "for epoch in range(num_epochs):\n",
        "    for i, x in enumerate(data_loader):\n",
        "        # Forward pass\n",
        "\n",
        "        x1 = x[:,:199]\n",
        "        mask = x[:,199:]\n",
        "        rec, mu, log_var = model(x)\n",
        "        \n",
        "        reconst_loss = cri(rec*mask, x1)\n",
        "        kl_div = - 0.5 * torch.sum(1 + log_var - mu.pow(2) - log_var.exp())\n",
        "        \n",
        "        # Backprop and optimize\n",
        "        loss = reconst_loss + kl_div\n",
        "        optimizer.zero_grad()\n",
        "        loss.backward()\n",
        "        optimizer.step()\n",
        "\n",
        "        if (i+1) % 157 == 0:\n",
        "            print (\"Epoch[{}/{}], Step [{}/{}], Reconst Loss: {:.4f}, KL Div: {:.4f}\" \n",
        "                   .format(epoch+1, num_epochs, i+1, len(data_loader), reconst_loss.item(), kl_div.item()))\n",
        "    vae_loss.append(reconst_loss)\n",
        "\n",
        "torch.save(model.state_dict(), \"/content/drive/MyDrive/VAE_model\")"
      ],
      "metadata": {
        "colab": {
          "base_uri": "https://localhost:8080/"
        },
        "id": "k1EMAsNda-K9",
        "outputId": "fe4040b4-4c10-45b4-aa8c-6b79cd7f6c01"
      },
      "execution_count": null,
      "outputs": [
        {
          "output_type": "stream",
          "name": "stderr",
          "text": [
            "/usr/local/lib/python3.7/dist-packages/torch/nn/functional.py:1944: UserWarning: nn.functional.sigmoid is deprecated. Use torch.sigmoid instead.\n",
            "  warnings.warn(\"nn.functional.sigmoid is deprecated. Use torch.sigmoid instead.\")\n"
          ]
        },
        {
          "output_type": "stream",
          "name": "stdout",
          "text": [
            "Epoch[1/30], Step [157/322], Reconst Loss: 0.6908, KL Div: 0.0018\n",
            "Epoch[1/30], Step [314/322], Reconst Loss: 0.6765, KL Div: 0.0041\n",
            "Epoch[2/30], Step [157/322], Reconst Loss: 0.6902, KL Div: 0.0006\n",
            "Epoch[2/30], Step [314/322], Reconst Loss: 0.6763, KL Div: 0.0008\n",
            "Epoch[3/30], Step [157/322], Reconst Loss: 0.6902, KL Div: 0.0004\n",
            "Epoch[3/30], Step [314/322], Reconst Loss: 0.6763, KL Div: 0.0001\n",
            "Epoch[4/30], Step [157/322], Reconst Loss: 0.6902, KL Div: 0.0000\n",
            "Epoch[4/30], Step [314/322], Reconst Loss: 0.6763, KL Div: 0.0000\n",
            "Epoch[5/30], Step [157/322], Reconst Loss: 0.6902, KL Div: 0.0000\n",
            "Epoch[5/30], Step [314/322], Reconst Loss: 0.6763, KL Div: 0.0000\n",
            "Epoch[6/30], Step [157/322], Reconst Loss: 0.6902, KL Div: -0.0000\n",
            "Epoch[6/30], Step [314/322], Reconst Loss: 0.6763, KL Div: -0.0000\n",
            "Epoch[7/30], Step [157/322], Reconst Loss: 0.6902, KL Div: 0.0000\n",
            "Epoch[7/30], Step [314/322], Reconst Loss: 0.6763, KL Div: -0.0000\n",
            "Epoch[8/30], Step [157/322], Reconst Loss: 0.6902, KL Div: -0.0000\n",
            "Epoch[8/30], Step [314/322], Reconst Loss: 0.6763, KL Div: -0.0000\n",
            "Epoch[9/30], Step [157/322], Reconst Loss: 0.6902, KL Div: -0.0000\n",
            "Epoch[9/30], Step [314/322], Reconst Loss: 0.6763, KL Div: -0.0000\n",
            "Epoch[10/30], Step [157/322], Reconst Loss: 0.6902, KL Div: -0.0000\n",
            "Epoch[10/30], Step [314/322], Reconst Loss: 0.6763, KL Div: -0.0000\n",
            "Epoch[11/30], Step [157/322], Reconst Loss: 0.6902, KL Div: -0.0000\n",
            "Epoch[11/30], Step [314/322], Reconst Loss: 0.6763, KL Div: -0.0000\n",
            "Epoch[12/30], Step [157/322], Reconst Loss: 0.6902, KL Div: -0.0000\n",
            "Epoch[12/30], Step [314/322], Reconst Loss: 0.6763, KL Div: -0.0000\n",
            "Epoch[13/30], Step [157/322], Reconst Loss: 0.6902, KL Div: -0.0000\n",
            "Epoch[13/30], Step [314/322], Reconst Loss: 0.6763, KL Div: -0.0000\n",
            "Epoch[14/30], Step [157/322], Reconst Loss: 0.6902, KL Div: -0.0000\n",
            "Epoch[14/30], Step [314/322], Reconst Loss: 0.6763, KL Div: -0.0000\n",
            "Epoch[15/30], Step [157/322], Reconst Loss: 0.6902, KL Div: -0.0000\n",
            "Epoch[15/30], Step [314/322], Reconst Loss: 0.6763, KL Div: -0.0000\n",
            "Epoch[16/30], Step [157/322], Reconst Loss: 0.6902, KL Div: -0.0000\n",
            "Epoch[16/30], Step [314/322], Reconst Loss: 0.6763, KL Div: -0.0000\n",
            "Epoch[17/30], Step [157/322], Reconst Loss: 0.6902, KL Div: -0.0000\n",
            "Epoch[17/30], Step [314/322], Reconst Loss: 0.6763, KL Div: -0.0000\n",
            "Epoch[18/30], Step [157/322], Reconst Loss: 0.6902, KL Div: -0.0000\n",
            "Epoch[18/30], Step [314/322], Reconst Loss: 0.6763, KL Div: -0.0000\n",
            "Epoch[19/30], Step [157/322], Reconst Loss: 0.6902, KL Div: -0.0000\n",
            "Epoch[19/30], Step [314/322], Reconst Loss: 0.6763, KL Div: -0.0000\n",
            "Epoch[20/30], Step [157/322], Reconst Loss: 0.6902, KL Div: -0.0000\n",
            "Epoch[20/30], Step [314/322], Reconst Loss: 0.6763, KL Div: -0.0000\n",
            "Epoch[21/30], Step [157/322], Reconst Loss: 0.6902, KL Div: -0.0000\n",
            "Epoch[21/30], Step [314/322], Reconst Loss: 0.6763, KL Div: -0.0000\n",
            "Epoch[22/30], Step [157/322], Reconst Loss: 0.6902, KL Div: -0.0000\n",
            "Epoch[22/30], Step [314/322], Reconst Loss: 0.6763, KL Div: -0.0000\n",
            "Epoch[23/30], Step [157/322], Reconst Loss: 0.6902, KL Div: -0.0000\n",
            "Epoch[23/30], Step [314/322], Reconst Loss: 0.6763, KL Div: -0.0000\n",
            "Epoch[24/30], Step [157/322], Reconst Loss: 0.6902, KL Div: -0.0000\n",
            "Epoch[24/30], Step [314/322], Reconst Loss: 0.6763, KL Div: -0.0000\n",
            "Epoch[25/30], Step [157/322], Reconst Loss: 0.6902, KL Div: -0.0000\n",
            "Epoch[25/30], Step [314/322], Reconst Loss: 0.6763, KL Div: -0.0000\n",
            "Epoch[26/30], Step [157/322], Reconst Loss: 0.6902, KL Div: -0.0000\n",
            "Epoch[26/30], Step [314/322], Reconst Loss: 0.6763, KL Div: -0.0000\n",
            "Epoch[27/30], Step [157/322], Reconst Loss: 0.6902, KL Div: -0.0000\n",
            "Epoch[27/30], Step [314/322], Reconst Loss: 0.6763, KL Div: -0.0000\n",
            "Epoch[28/30], Step [157/322], Reconst Loss: 0.6902, KL Div: -0.0000\n",
            "Epoch[28/30], Step [314/322], Reconst Loss: 0.6763, KL Div: -0.0000\n",
            "Epoch[29/30], Step [157/322], Reconst Loss: 0.6902, KL Div: -0.0000\n",
            "Epoch[29/30], Step [314/322], Reconst Loss: 0.6763, KL Div: -0.0000\n",
            "Epoch[30/30], Step [157/322], Reconst Loss: 0.6902, KL Div: -0.0000\n",
            "Epoch[30/30], Step [314/322], Reconst Loss: 0.6763, KL Div: -0.0000\n"
          ]
        }
      ]
    },
    {
      "cell_type": "code",
      "source": [
        "plt_arr = []\n",
        "for i in vae_loss:\n",
        "  plt_arr.append(i.detach().numpy())"
      ],
      "metadata": {
        "id": "aISlkzaz6iTg"
      },
      "execution_count": null,
      "outputs": []
    },
    {
      "cell_type": "code",
      "source": [
        "import matplotlib.pyplot as plt\n",
        "\n",
        "plt.plot(plt_arr)\n",
        "plt.show()"
      ],
      "metadata": {
        "colab": {
          "base_uri": "https://localhost:8080/",
          "height": 276
        },
        "id": "luIQiHn-eLa0",
        "outputId": "488d8dc1-959f-4a8f-bdbf-964b118be1f4"
      },
      "execution_count": null,
      "outputs": [
        {
          "output_type": "display_data",
          "data": {
            "text/plain": [
              "<Figure size 432x288 with 1 Axes>"
            ],
            "image/png": "[encoded data removed]"
          },
          "metadata": {
            "needs_background": "light"
          }
        }
      ]
    },
    {
      "cell_type": "markdown",
      "source": [
        "Classification on VAE dataset"
      ],
      "metadata": {
        "id": "eqmKy9lsu9zl"
      }
    },
    {
      "cell_type": "code",
      "source": [
        "model.load_state_dict(torch.load(\"/content/drive/MyDrive/VAE_model\"))\n",
        "model.eval()\n",
        "train_data = []\n",
        "test_data = []\n",
        "for i in data_loader:\n",
        "  X ,  _, _ = model(i)\n",
        "  train_data.append(X)\n",
        "for i in test_data_loader:\n",
        "  X ,  _, _ = model(i)\n",
        "  test_data.append(X)"
      ],
      "metadata": {
        "colab": {
          "base_uri": "https://localhost:8080/"
        },
        "id": "kYYEraod6tDl",
        "outputId": "5181ea5d-b5b6-4aa2-cbbc-71d1a22a014b"
      },
      "execution_count": null,
      "outputs": [
        {
          "output_type": "stream",
          "name": "stderr",
          "text": [
            "/usr/local/lib/python3.7/dist-packages/torch/nn/functional.py:1944: UserWarning: nn.functional.sigmoid is deprecated. Use torch.sigmoid instead.\n",
            "  warnings.warn(\"nn.functional.sigmoid is deprecated. Use torch.sigmoid instead.\")\n"
          ]
        }
      ]
    },
    {
      "cell_type": "code",
      "source": [
        "X_train_VAE = torch.cat(train_data).detach().numpy()\n",
        "X_test_VAE = torch.cat(test_data).detach().numpy()\n",
        "gc.collect()"
      ],
      "metadata": {
        "colab": {
          "base_uri": "https://localhost:8080/"
        },
        "id": "91YdOavRvsiX",
        "outputId": "3669f7e1-a1ea-4225-fd1f-b4045de93308"
      },
      "execution_count": null,
      "outputs": [
        {
          "output_type": "execute_result",
          "data": {
            "text/plain": [
              "4721"
            ]
          },
          "metadata": {},
          "execution_count": 31
        }
      ]
    },
    {
      "cell_type": "code",
      "source": [
        "X_train_VAE_df = pd.DataFrame(X_train_VAE)\n",
        "X_test_VAE_df = pd.DataFrame(X_test_VAE)"
      ],
      "metadata": {
        "id": "8Usg66ROvuyS"
      },
      "execution_count": null,
      "outputs": []
    },
    {
      "cell_type": "code",
      "source": [
        "from sklearn.ensemble import RandomForestClassifier\n",
        "clf_rae = RandomForestClassifier(max_depth=3)\n",
        "clf_rae.fit(X_train_RAE_df , y_train)\n",
        "y_pred = clf_rae.predict(X_test_RAE_df)"
      ],
      "metadata": {
        "id": "3LA_ciWPwOP8"
      },
      "execution_count": null,
      "outputs": []
    },
    {
      "cell_type": "code",
      "source": [
        "print(classification_report(y_test,y_pred))"
      ],
      "metadata": {
        "colab": {
          "base_uri": "https://localhost:8080/"
        },
        "id": "_1APSjPuwcvv",
        "outputId": "e58a97b7-0fc1-4982-f948-32a3d2f65a0a"
      },
      "execution_count": null,
      "outputs": [
        {
          "output_type": "stream",
          "name": "stdout",
          "text": [
            "              precision    recall  f1-score   support\n",
            "\n",
            "           0       0.85      0.98      0.91     20060\n",
            "           1       0.62      0.13      0.22      4073\n",
            "\n",
            "    accuracy                           0.84     24133\n",
            "   macro avg       0.73      0.56      0.56     24133\n",
            "weighted avg       0.81      0.84      0.79     24133\n",
            "\n"
          ]
        }
      ]
    },
    {
      "cell_type": "markdown",
      "source": [
        "# Reduce the dimenssion of the data using Principal component analysis and Linear Discriminant Analysis and compare the impact on selected machine learning model"
      ],
      "metadata": {
        "id": "9abnLUfK6oKh"
      }
    },
    {
      "cell_type": "code",
      "source": [
        "from sklearn.ensemble import RandomForestClassifier\n",
        "from sklearn.decomposition import PCA\n",
        "from sklearn.discriminant_analysis import LinearDiscriminantAnalysis"
      ],
      "metadata": {
        "id": "snZPyi3Ow9mu"
      },
      "execution_count": 20,
      "outputs": []
    },
    {
      "cell_type": "markdown",
      "source": [
        "# Undercomplete autoencoder PCA and LDA"
      ],
      "metadata": {
        "id": "7QiySDLCg6oA"
      }
    },
    {
      "cell_type": "code",
      "source": [
        "X_train_AE_df = pd.read_csv(\"/content/drive/MyDrive/assignment_2/X_train_AE_df.csv\")\n",
        "X_test_AE_df = pd.read_csv(\"/content/drive/MyDrive/assignment_2/X_test_AE_df.csv\")"
      ],
      "metadata": {
        "id": "nRZzgdsTe7bz"
      },
      "execution_count": 22,
      "outputs": []
    },
    {
      "cell_type": "markdown",
      "source": [
        "PCA"
      ],
      "metadata": {
        "id": "ZiCM2FWWBmxq"
      }
    },
    {
      "cell_type": "code",
      "source": [
        "n_comp_arr = [5, 10, 15, 20]\n",
        "best = 0\n",
        "n_comp = 0\n",
        "for i in n_comp_arr:\n",
        "  pca = PCA(n_components = i)\n",
        "  pca.fit(X_train_AE_df)\n",
        "  print(\"n_components: \", str(i), \" explained_variance: \", str(pca.explained_variance_ratio_.sum()))"
      ],
      "metadata": {
        "colab": {
          "base_uri": "https://localhost:8080/"
        },
        "id": "qlY2mWVnYhCi",
        "outputId": "f60210c6-9b74-40cd-be2f-eaf19019648a"
      },
      "execution_count": 23,
      "outputs": [
        {
          "output_type": "stream",
          "name": "stdout",
          "text": [
            "n_components:  5  explained_variance:  0.7617546179533858\n",
            "n_components:  10  explained_variance:  0.9264542857187726\n",
            "n_components:  15  explained_variance:  0.977183712905475\n",
            "n_components:  20  explained_variance:  0.9905181943403178\n"
          ]
        }
      ]
    },
    {
      "cell_type": "code",
      "source": [
        "# PCA\n",
        "pca = PCA(n_components = 20)\n",
        "pca_AE_train_df = pca.fit_transform(X_train_AE_df)\n",
        "pca_AE_test_df = pca.transform(X_test_AE_df)\n",
        "\n",
        "clf_AE = RandomForestClassifier(max_depth = 15)\n",
        "clf_AE.fit(pca_AE_train_df, y_train)\n",
        "\n",
        "y_pred = clf_AE.predict(pca_AE_test_df)\n",
        "\n",
        "print(classification_report(y_test, y_pred))"
      ],
      "metadata": {
        "colab": {
          "base_uri": "https://localhost:8080/"
        },
        "id": "asI3Bbcw9sPO",
        "outputId": "5e00f43e-1ef6-46be-f6dc-7c78224e39d5"
      },
      "execution_count": 24,
      "outputs": [
        {
          "output_type": "stream",
          "name": "stdout",
          "text": [
            "              precision    recall  f1-score   support\n",
            "\n",
            "           0       0.97      1.00      0.98    114044\n",
            "           1       0.78      0.13      0.22      4064\n",
            "\n",
            "    accuracy                           0.97    118108\n",
            "   macro avg       0.87      0.56      0.60    118108\n",
            "weighted avg       0.96      0.97      0.96    118108\n",
            "\n"
          ]
        }
      ]
    },
    {
      "cell_type": "markdown",
      "source": [
        "LDA"
      ],
      "metadata": {
        "id": "lwQAk1dyBoLS"
      }
    },
    {
      "cell_type": "code",
      "source": [
        "gc.collect()"
      ],
      "metadata": {
        "colab": {
          "base_uri": "https://localhost:8080/"
        },
        "id": "0_GcEvPCo5Dl",
        "outputId": "964e9bb2-3a8f-4d1f-ddc4-0595c3b213ac"
      },
      "execution_count": 25,
      "outputs": [
        {
          "output_type": "execute_result",
          "data": {
            "text/plain": [
              "338"
            ]
          },
          "metadata": {},
          "execution_count": 25
        }
      ]
    },
    {
      "cell_type": "code",
      "source": [
        "# LDA\n",
        "lda = LinearDiscriminantAnalysis(n_components=1)\n",
        "lda_AE_train_df = lda.fit_transform(X_train_AE_df, y_train)\n",
        "lda_AE_test_df = lda.transform(X_test_AE_df)\n",
        "\n",
        "clf_AE = RandomForestClassifier(max_depth = 15)\n",
        "clf_AE.fit(lda_AE_train_df, y_train)\n",
        "\n",
        "y_pred = clf_AE.predict(lda_AE_test_df)\n",
        "\n",
        "print(classification_report(y_test, y_pred))"
      ],
      "metadata": {
        "colab": {
          "base_uri": "https://localhost:8080/"
        },
        "id": "NYcrlhZ59xzW",
        "outputId": "3ce8d709-cb66-42ee-a89b-ca47dbd4ac39"
      },
      "execution_count": 26,
      "outputs": [
        {
          "output_type": "stream",
          "name": "stdout",
          "text": [
            "              precision    recall  f1-score   support\n",
            "\n",
            "           0       0.97      1.00      0.98    114044\n",
            "           1       0.64      0.11      0.19      4064\n",
            "\n",
            "    accuracy                           0.97    118108\n",
            "   macro avg       0.81      0.56      0.59    118108\n",
            "weighted avg       0.96      0.97      0.96    118108\n",
            "\n"
          ]
        }
      ]
    },
    {
      "cell_type": "markdown",
      "source": [
        "# Task 2"
      ],
      "metadata": {
        "id": "fA-50QNX8tT0"
      }
    },
    {
      "cell_type": "markdown",
      "source": [
        "# Preprocessing"
      ],
      "metadata": {
        "id": "XFOSxrBK82gC"
      }
    },
    {
      "cell_type": "code",
      "source": [
        "train_df = pd.read_csv('/content/drive/MyDrive/UNSW_NB15_training-set.csv')\n",
        "test_df = pd.read_csv('/content/drive/MyDrive/UNSW_NB15_testing-set.csv')"
      ],
      "metadata": {
        "id": "D8DmBuB4mmAk"
      },
      "execution_count": 69,
      "outputs": []
    },
    {
      "cell_type": "markdown",
      "source": [
        "Label encoder"
      ],
      "metadata": {
        "id": "Ye9T6inhH-x9"
      }
    },
    {
      "cell_type": "code",
      "source": [
        "# Label encoder from scratch :)\n",
        "for i in train_df.columns:\n",
        "    if train_df[i].dtype == np.dtype(object):\n",
        "        unique_vals = list(set(list(train_df[i].unique()) +  list(test_df[i].unique())))\n",
        "        numbers_list = []\n",
        "        for j in range(len(unique_vals)):\n",
        "          numbers_list.append(j)\n",
        "        dictionary = dict(zip(unique_vals, numbers_list))\n",
        "\n",
        "        train_df[i] = train_df[i].apply(lambda x: dictionary[x])\n",
        "        test_df[i] = test_df[i].apply(lambda x: dictionary[x])"
      ],
      "metadata": {
        "id": "A2ZZD6z_ml9t"
      },
      "execution_count": 70,
      "outputs": []
    },
    {
      "cell_type": "markdown",
      "source": [
        "target data"
      ],
      "metadata": {
        "id": "xunHgo1sIA5T"
      }
    },
    {
      "cell_type": "code",
      "source": [
        "y_train = train_df[\"label\"]\n",
        "y_test = test_df[\"label\"]"
      ],
      "metadata": {
        "id": "8nRDTliFml7i"
      },
      "execution_count": 71,
      "outputs": []
    },
    {
      "cell_type": "code",
      "source": [
        "# remove label features from train and test datasets\n",
        "train_df = train_df.drop([\"label\"],axis = 1)\n",
        "test_df = test_df.drop([\"label\"],axis = 1)"
      ],
      "metadata": {
        "id": "XpHcrPZoE3ps"
      },
      "execution_count": 72,
      "outputs": []
    },
    {
      "cell_type": "markdown",
      "source": [
        "feature engineering"
      ],
      "metadata": {
        "id": "-g-KOXO2IXq6"
      }
    },
    {
      "cell_type": "code",
      "source": [
        "features_rem = []\n",
        "for i in train_df.columns:\n",
        "  # if 95 percent of the numbers from the feature are the same, then delete  \n",
        "  if max(train_df[i].value_counts(normalize=True)) > 0.95:\n",
        "    features_rem.append(i)"
      ],
      "metadata": {
        "id": "9micwUaqIXMa"
      },
      "execution_count": 88,
      "outputs": []
    },
    {
      "cell_type": "markdown",
      "source": [
        "removing unbalansed features "
      ],
      "metadata": {
        "id": "jkQMPEHgMfcT"
      }
    },
    {
      "cell_type": "code",
      "source": [
        "train_df = train_df.drop(features_rem, axis = 1)\n",
        "test_df = test_df.drop(features_rem , axis = 1)"
      ],
      "metadata": {
        "id": "xJIQ9N88IW5p"
      },
      "execution_count": 90,
      "outputs": []
    },
    {
      "cell_type": "code",
      "source": [
        "train_df"
      ],
      "metadata": {
        "colab": {
          "base_uri": "https://localhost:8080/",
          "height": 487
        },
        "id": "cC_JPwAiMcYQ",
        "outputId": "66691ff4-e473-487c-aa3b-34c6d1a422d4"
      },
      "execution_count": 91,
      "outputs": [
        {
          "output_type": "execute_result",
          "data": {
            "text/plain": [
              "          id       dur  proto  service  state  spkts  dpkts  sbytes  dbytes  \\\n",
              "0          1  0.000011     33        1      0      2      0     496       0   \n",
              "1          2  0.000008     33        1      0      2      0    1762       0   \n",
              "2          3  0.000005     33        1      0      2      0    1068       0   \n",
              "3          4  0.000006     33        1      0      2      0     900       0   \n",
              "4          5  0.000010     33        1      0      2      0    2126       0   \n",
              "...      ...       ...    ...      ...    ...    ...    ...     ...     ...   \n",
              "82327  82328  0.000005     33        1      0      2      0     104       0   \n",
              "82328  82329  1.106101     37        1      2     20      8   18062     354   \n",
              "82329  82330  0.000000     97        1      0      1      0      46       0   \n",
              "82330  82331  0.000000     97        1      0      1      0      46       0   \n",
              "82331  82332  0.000009     33        1      0      2      0     104       0   \n",
              "\n",
              "                rate  ...  ct_srv_src  ct_state_ttl  ct_dst_ltm  \\\n",
              "0       90909.090200  ...           2             2           1   \n",
              "1      125000.000300  ...           2             2           1   \n",
              "2      200000.005100  ...           3             2           1   \n",
              "3      166666.660800  ...           3             2           2   \n",
              "4      100000.002500  ...           3             2           2   \n",
              "...              ...  ...         ...           ...         ...   \n",
              "82327  200000.005100  ...           1             2           2   \n",
              "82328      24.410067  ...           1             1           2   \n",
              "82329       0.000000  ...           1             2           1   \n",
              "82330       0.000000  ...           1             2           1   \n",
              "82331  111111.107200  ...           1             2           1   \n",
              "\n",
              "       ct_src_dport_ltm  ct_dst_sport_ltm  ct_dst_src_ltm  ct_flw_http_mthd  \\\n",
              "0                     1                 1               2                 0   \n",
              "1                     1                 1               2                 0   \n",
              "2                     1                 1               3                 0   \n",
              "3                     2                 1               3                 0   \n",
              "4                     2                 1               3                 0   \n",
              "...                 ...               ...             ...               ...   \n",
              "82327                 1                 1               2                 0   \n",
              "82328                 1                 1               1                 0   \n",
              "82329                 1                 1               1                 0   \n",
              "82330                 1                 1               1                 0   \n",
              "82331                 1                 1               1                 0   \n",
              "\n",
              "       ct_src_ltm  ct_srv_dst  attack_cat  \n",
              "0               1           2           4  \n",
              "1               1           2           4  \n",
              "2               1           3           4  \n",
              "3               2           3           4  \n",
              "4               2           3           4  \n",
              "...           ...         ...         ...  \n",
              "82327           2           1           4  \n",
              "82328           3           2           4  \n",
              "82329           1           1           4  \n",
              "82330           1           1           4  \n",
              "82331           1           1           4  \n",
              "\n",
              "[82332 rows x 41 columns]"
            ],
            "text/html": [
              "\n",
              "  <div id=\"df-ccaee03e-81e8-4c9e-bc2b-798c1df8bfc4\">\n",
              "    <div class=\"colab-df-container\">\n",
              "      <div>\n",
              "<style scoped>\n",
              "    .dataframe tbody tr th:only-of-type {\n",
              "        vertical-align: middle;\n",
              "    }\n",
              "\n",
              "    .dataframe tbody tr th {\n",
              "        vertical-align: top;\n",
              "    }\n",
              "\n",
              "    .dataframe thead th {\n",
              "        text-align: right;\n",
              "    }\n",
              "</style>\n",
              "<table border=\"1\" class=\"dataframe\">\n",
              "  <thead>\n",
              "    <tr style=\"text-align: right;\">\n",
              "      <th></th>\n",
              "      <th>id</th>\n",
              "      <th>dur</th>\n",
              "      <th>proto</th>\n",
              "      <th>service</th>\n",
              "      <th>state</th>\n",
              "      <th>spkts</th>\n",
              "      <th>dpkts</th>\n",
              "      <th>sbytes</th>\n",
              "      <th>dbytes</th>\n",
              "      <th>rate</th>\n",
              "      <th>...</th>\n",
              "      <th>ct_srv_src</th>\n",
              "      <th>ct_state_ttl</th>\n",
              "      <th>ct_dst_ltm</th>\n",
              "      <th>ct_src_dport_ltm</th>\n",
              "      <th>ct_dst_sport_ltm</th>\n",
              "      <th>ct_dst_src_ltm</th>\n",
              "      <th>ct_flw_http_mthd</th>\n",
              "      <th>ct_src_ltm</th>\n",
              "      <th>ct_srv_dst</th>\n",
              "      <th>attack_cat</th>\n",
              "    </tr>\n",
              "  </thead>\n",
              "  <tbody>\n",
              "    <tr>\n",
              "      <th>0</th>\n",
              "      <td>1</td>\n",
              "      <td>0.000011</td>\n",
              "      <td>33</td>\n",
              "      <td>1</td>\n",
              "      <td>0</td>\n",
              "      <td>2</td>\n",
              "      <td>0</td>\n",
              "      <td>496</td>\n",
              "      <td>0</td>\n",
              "      <td>90909.090200</td>\n",
              "      <td>...</td>\n",
              "      <td>2</td>\n",
              "      <td>2</td>\n",
              "      <td>1</td>\n",
              "      <td>1</td>\n",
              "      <td>1</td>\n",
              "      <td>2</td>\n",
              "      <td>0</td>\n",
              "      <td>1</td>\n",
              "      <td>2</td>\n",
              "      <td>4</td>\n",
              "    </tr>\n",
              "    <tr>\n",
              "      <th>1</th>\n",
              "      <td>2</td>\n",
              "      <td>0.000008</td>\n",
              "      <td>33</td>\n",
              "      <td>1</td>\n",
              "      <td>0</td>\n",
              "      <td>2</td>\n",
              "      <td>0</td>\n",
              "      <td>1762</td>\n",
              "      <td>0</td>\n",
              "      <td>125000.000300</td>\n",
              "      <td>...</td>\n",
              "      <td>2</td>\n",
              "      <td>2</td>\n",
              "      <td>1</td>\n",
              "      <td>1</td>\n",
              "      <td>1</td>\n",
              "      <td>2</td>\n",
              "      <td>0</td>\n",
              "      <td>1</td>\n",
              "      <td>2</td>\n",
              "      <td>4</td>\n",
              "    </tr>\n",
              "    <tr>\n",
              "      <th>2</th>\n",
              "      <td>3</td>\n",
              "      <td>0.000005</td>\n",
              "      <td>33</td>\n",
              "      <td>1</td>\n",
              "      <td>0</td>\n",
              "      <td>2</td>\n",
              "      <td>0</td>\n",
              "      <td>1068</td>\n",
              "      <td>0</td>\n",
              "      <td>200000.005100</td>\n",
              "      <td>...</td>\n",
              "      <td>3</td>\n",
              "      <td>2</td>\n",
              "      <td>1</td>\n",
              "      <td>1</td>\n",
              "      <td>1</td>\n",
              "      <td>3</td>\n",
              "      <td>0</td>\n",
              "      <td>1</td>\n",
              "      <td>3</td>\n",
              "      <td>4</td>\n",
              "    </tr>\n",
              "    <tr>\n",
              "      <th>3</th>\n",
              "      <td>4</td>\n",
              "      <td>0.000006</td>\n",
              "      <td>33</td>\n",
              "      <td>1</td>\n",
              "      <td>0</td>\n",
              "      <td>2</td>\n",
              "      <td>0</td>\n",
              "      <td>900</td>\n",
              "      <td>0</td>\n",
              "      <td>166666.660800</td>\n",
              "      <td>...</td>\n",
              "      <td>3</td>\n",
              "      <td>2</td>\n",
              "      <td>2</td>\n",
              "      <td>2</td>\n",
              "      <td>1</td>\n",
              "      <td>3</td>\n",
              "      <td>0</td>\n",
              "      <td>2</td>\n",
              "      <td>3</td>\n",
              "      <td>4</td>\n",
              "    </tr>\n",
              "    <tr>\n",
              "      <th>4</th>\n",
              "      <td>5</td>\n",
              "      <td>0.000010</td>\n",
              "      <td>33</td>\n",
              "      <td>1</td>\n",
              "      <td>0</td>\n",
              "      <td>2</td>\n",
              "      <td>0</td>\n",
              "      <td>2126</td>\n",
              "      <td>0</td>\n",
              "      <td>100000.002500</td>\n",
              "      <td>...</td>\n",
              "      <td>3</td>\n",
              "      <td>2</td>\n",
              "      <td>2</td>\n",
              "      <td>2</td>\n",
              "      <td>1</td>\n",
              "      <td>3</td>\n",
              "      <td>0</td>\n",
              "      <td>2</td>\n",
              "      <td>3</td>\n",
              "      <td>4</td>\n",
              "    </tr>\n",
              "    <tr>\n",
              "      <th>...</th>\n",
              "      <td>...</td>\n",
              "      <td>...</td>\n",
              "      <td>...</td>\n",
              "      <td>...</td>\n",
              "      <td>...</td>\n",
              "      <td>...</td>\n",
              "      <td>...</td>\n",
              "      <td>...</td>\n",
              "      <td>...</td>\n",
              "      <td>...</td>\n",
              "      <td>...</td>\n",
              "      <td>...</td>\n",
              "      <td>...</td>\n",
              "      <td>...</td>\n",
              "      <td>...</td>\n",
              "      <td>...</td>\n",
              "      <td>...</td>\n",
              "      <td>...</td>\n",
              "      <td>...</td>\n",
              "      <td>...</td>\n",
              "      <td>...</td>\n",
              "    </tr>\n",
              "    <tr>\n",
              "      <th>82327</th>\n",
              "      <td>82328</td>\n",
              "      <td>0.000005</td>\n",
              "      <td>33</td>\n",
              "      <td>1</td>\n",
              "      <td>0</td>\n",
              "      <td>2</td>\n",
              "      <td>0</td>\n",
              "      <td>104</td>\n",
              "      <td>0</td>\n",
              "      <td>200000.005100</td>\n",
              "      <td>...</td>\n",
              "      <td>1</td>\n",
              "      <td>2</td>\n",
              "      <td>2</td>\n",
              "      <td>1</td>\n",
              "      <td>1</td>\n",
              "      <td>2</td>\n",
              "      <td>0</td>\n",
              "      <td>2</td>\n",
              "      <td>1</td>\n",
              "      <td>4</td>\n",
              "    </tr>\n",
              "    <tr>\n",
              "      <th>82328</th>\n",
              "      <td>82329</td>\n",
              "      <td>1.106101</td>\n",
              "      <td>37</td>\n",
              "      <td>1</td>\n",
              "      <td>2</td>\n",
              "      <td>20</td>\n",
              "      <td>8</td>\n",
              "      <td>18062</td>\n",
              "      <td>354</td>\n",
              "      <td>24.410067</td>\n",
              "      <td>...</td>\n",
              "      <td>1</td>\n",
              "      <td>1</td>\n",
              "      <td>2</td>\n",
              "      <td>1</td>\n",
              "      <td>1</td>\n",
              "      <td>1</td>\n",
              "      <td>0</td>\n",
              "      <td>3</td>\n",
              "      <td>2</td>\n",
              "      <td>4</td>\n",
              "    </tr>\n",
              "    <tr>\n",
              "      <th>82329</th>\n",
              "      <td>82330</td>\n",
              "      <td>0.000000</td>\n",
              "      <td>97</td>\n",
              "      <td>1</td>\n",
              "      <td>0</td>\n",
              "      <td>1</td>\n",
              "      <td>0</td>\n",
              "      <td>46</td>\n",
              "      <td>0</td>\n",
              "      <td>0.000000</td>\n",
              "      <td>...</td>\n",
              "      <td>1</td>\n",
              "      <td>2</td>\n",
              "      <td>1</td>\n",
              "      <td>1</td>\n",
              "      <td>1</td>\n",
              "      <td>1</td>\n",
              "      <td>0</td>\n",
              "      <td>1</td>\n",
              "      <td>1</td>\n",
              "      <td>4</td>\n",
              "    </tr>\n",
              "    <tr>\n",
              "      <th>82330</th>\n",
              "      <td>82331</td>\n",
              "      <td>0.000000</td>\n",
              "      <td>97</td>\n",
              "      <td>1</td>\n",
              "      <td>0</td>\n",
              "      <td>1</td>\n",
              "      <td>0</td>\n",
              "      <td>46</td>\n",
              "      <td>0</td>\n",
              "      <td>0.000000</td>\n",
              "      <td>...</td>\n",
              "      <td>1</td>\n",
              "      <td>2</td>\n",
              "      <td>1</td>\n",
              "      <td>1</td>\n",
              "      <td>1</td>\n",
              "      <td>1</td>\n",
              "      <td>0</td>\n",
              "      <td>1</td>\n",
              "      <td>1</td>\n",
              "      <td>4</td>\n",
              "    </tr>\n",
              "    <tr>\n",
              "      <th>82331</th>\n",
              "      <td>82332</td>\n",
              "      <td>0.000009</td>\n",
              "      <td>33</td>\n",
              "      <td>1</td>\n",
              "      <td>0</td>\n",
              "      <td>2</td>\n",
              "      <td>0</td>\n",
              "      <td>104</td>\n",
              "      <td>0</td>\n",
              "      <td>111111.107200</td>\n",
              "      <td>...</td>\n",
              "      <td>1</td>\n",
              "      <td>2</td>\n",
              "      <td>1</td>\n",
              "      <td>1</td>\n",
              "      <td>1</td>\n",
              "      <td>1</td>\n",
              "      <td>0</td>\n",
              "      <td>1</td>\n",
              "      <td>1</td>\n",
              "      <td>4</td>\n",
              "    </tr>\n",
              "  </tbody>\n",
              "</table>\n",
              "<p>82332 rows × 41 columns</p>\n",
              "</div>\n",
              "      <button class=\"colab-df-convert\" onclick=\"convertToInteractive('df-ccaee03e-81e8-4c9e-bc2b-798c1df8bfc4')\"\n",
              "              title=\"Convert this dataframe to an interactive table.\"\n",
              "              style=\"display:none;\">\n",
              "        \n",
              "  <svg xmlns=\"http://www.w3.org/2000/svg\" height=\"24px\"viewBox=\"0 0 24 24\"\n",
              "       width=\"24px\">\n",
              "    <path d=\"M0 0h24v24H0V0z\" fill=\"none\"/>\n",
              "    <path d=\"M18.56 5.44l.94 2.06.94-2.06 2.06-.94-2.06-.94-.94-2.06-.94 2.06-2.06.94zm-11 1L8.5 8.5l.94-2.06 2.06-.94-2.06-.94L8.5 2.5l-.94 2.06-2.06.94zm10 10l.94 2.06.94-2.06 2.06-.94-2.06-.94-.94-2.06-.94 2.06-2.06.94z\"/><path d=\"M17.41 7.96l-1.37-1.37c-.4-.4-.92-.59-1.43-.59-.52 0-1.04.2-1.43.59L10.3 9.45l-7.72 7.72c-.78.78-.78 2.05 0 2.83L4 21.41c.39.39.9.59 1.41.59.51 0 1.02-.2 1.41-.59l7.78-7.78 2.81-2.81c.8-.78.8-2.07 0-2.86zM5.41 20L4 18.59l7.72-7.72 1.47 1.35L5.41 20z\"/>\n",
              "  </svg>\n",
              "      </button>\n",
              "      \n",
              "  <style>\n",
              "    .colab-df-container {\n",
              "      display:flex;\n",
              "      flex-wrap:wrap;\n",
              "      gap: 12px;\n",
              "    }\n",
              "\n",
              "    .colab-df-convert {\n",
              "      background-color: #E8F0FE;\n",
              "      border: none;\n",
              "      border-radius: 50%;\n",
              "      cursor: pointer;\n",
              "      display: none;\n",
              "      fill: #1967D2;\n",
              "      height: 32px;\n",
              "      padding: 0 0 0 0;\n",
              "      width: 32px;\n",
              "    }\n",
              "\n",
              "    .colab-df-convert:hover {\n",
              "      background-color: #E2EBFA;\n",
              "      box-shadow: 0px 1px 2px rgba(60, 64, 67, 0.3), 0px 1px 3px 1px rgba(60, 64, 67, 0.15);\n",
              "      fill: #174EA6;\n",
              "    }\n",
              "\n",
              "    [theme=dark] .colab-df-convert {\n",
              "      background-color: #3B4455;\n",
              "      fill: #D2E3FC;\n",
              "    }\n",
              "\n",
              "    [theme=dark] .colab-df-convert:hover {\n",
              "      background-color: #434B5C;\n",
              "      box-shadow: 0px 1px 3px 1px rgba(0, 0, 0, 0.15);\n",
              "      filter: drop-shadow(0px 1px 2px rgba(0, 0, 0, 0.3));\n",
              "      fill: #FFFFFF;\n",
              "    }\n",
              "  </style>\n",
              "\n",
              "      <script>\n",
              "        const buttonEl =\n",
              "          document.querySelector('#df-ccaee03e-81e8-4c9e-bc2b-798c1df8bfc4 button.colab-df-convert');\n",
              "        buttonEl.style.display =\n",
              "          google.colab.kernel.accessAllowed ? 'block' : 'none';\n",
              "\n",
              "        async function convertToInteractive(key) {\n",
              "          const element = document.querySelector('#df-ccaee03e-81e8-4c9e-bc2b-798c1df8bfc4');\n",
              "          const dataTable =\n",
              "            await google.colab.kernel.invokeFunction('convertToInteractive',\n",
              "                                                     [key], {});\n",
              "          if (!dataTable) return;\n",
              "\n",
              "          const docLinkHtml = 'Like what you see? Visit the ' +\n",
              "            '<a target=\"_blank\" href=https://colab.research.google.com/notebooks/data_table.ipynb>data table notebook</a>'\n",
              "            + ' to learn more about interactive tables.';\n",
              "          element.innerHTML = '';\n",
              "          dataTable['output_type'] = 'display_data';\n",
              "          await google.colab.output.renderOutput(dataTable, element);\n",
              "          const docLink = document.createElement('div');\n",
              "          docLink.innerHTML = docLinkHtml;\n",
              "          element.appendChild(docLink);\n",
              "        }\n",
              "      </script>\n",
              "    </div>\n",
              "  </div>\n",
              "  "
            ]
          },
          "metadata": {},
          "execution_count": 91
        }
      ]
    },
    {
      "cell_type": "markdown",
      "source": [
        "Data transformation (Rubust)"
      ],
      "metadata": {
        "id": "2gcYO2puIKLM"
      }
    },
    {
      "cell_type": "code",
      "source": [
        "from sklearn.preprocessing import RobustScaler"
      ],
      "metadata": {
        "id": "8LwsnuLsml5i"
      },
      "execution_count": 92,
      "outputs": []
    },
    {
      "cell_type": "code",
      "source": [
        "transformer = RobustScaler()\n",
        "train_df = transformer.fit_transform(train_df)\n",
        "test_df = transformer.transform(test_df)"
      ],
      "metadata": {
        "id": "wdrD0HXgmjQT"
      },
      "execution_count": 93,
      "outputs": []
    },
    {
      "cell_type": "code",
      "source": [
        "train_df"
      ],
      "metadata": {
        "colab": {
          "base_uri": "https://localhost:8080/"
        },
        "id": "2_8ohxAxIRt3",
        "outputId": "2f0faa8a-df75-408a-a9cf-16b5a86990ce"
      },
      "execution_count": 94,
      "outputs": [
        {
          "output_type": "execute_result",
          "data": {
            "text/plain": [
              "array([[-1.        , -0.0196385 , -1.        , ..., -0.33333333,\n",
              "        -0.33333333,  0.        ],\n",
              "       [-0.99997571, -0.01964267, -1.        , ..., -0.33333333,\n",
              "        -0.33333333,  0.        ],\n",
              "       [-0.99995142, -0.01964684, -1.        , ..., -0.33333333,\n",
              "        -0.22222222,  0.        ],\n",
              "       ...,\n",
              "       [ 0.99995142, -0.01965379, 15.        , ..., -0.33333333,\n",
              "        -0.44444444,  0.        ],\n",
              "       [ 0.99997571, -0.01965379, 15.        , ..., -0.33333333,\n",
              "        -0.44444444,  0.        ],\n",
              "       [ 1.        , -0.01964128, -1.        , ..., -0.33333333,\n",
              "        -0.44444444,  0.        ]])"
            ]
          },
          "metadata": {},
          "execution_count": 94
        }
      ]
    },
    {
      "cell_type": "code",
      "source": [
        ""
      ],
      "metadata": {
        "id": "smO50EZNIRry"
      },
      "execution_count": null,
      "outputs": []
    },
    {
      "cell_type": "code",
      "source": [
        ""
      ],
      "metadata": {
        "id": "_crvEQQ9IRpk"
      },
      "execution_count": null,
      "outputs": []
    },
    {
      "cell_type": "code",
      "source": [
        ""
      ],
      "metadata": {
        "id": "_WHyVEZCIRVe"
      },
      "execution_count": null,
      "outputs": []
    },
    {
      "cell_type": "markdown",
      "source": [
        "# References"
      ],
      "metadata": {
        "id": "8sUJK7F6DZb5"
      }
    },
    {
      "cell_type": "markdown",
      "source": [
        "https://stackoverflow.com/a/209854"
      ],
      "metadata": {
        "id": "1uQp2AeEDewW"
      }
    },
    {
      "cell_type": "code",
      "source": [
        ""
      ],
      "metadata": {
        "id": "iYXkL7PMDbcR"
      },
      "execution_count": null,
      "outputs": []
    }
  ]
}