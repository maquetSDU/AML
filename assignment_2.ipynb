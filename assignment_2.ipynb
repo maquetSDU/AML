{
  "nbformat": 4,
  "nbformat_minor": 0,
  "metadata": {
    "colab": {
      "name": "assignment_2.ipynb",
      "provenance": [],
      "collapsed_sections": [],
      "toc_visible": true
    },
    "kernelspec": {
      "name": "python3",
      "display_name": "Python 3"
    },
    "language_info": {
      "name": "python"
    },
    "accelerator": "GPU"
  },
  "cells": [
    {
      "cell_type": "code",
      "source": [
        "import pandas as pd\n",
        "import numpy as np\n",
        "from sklearn import preprocessing\n",
        "from sklearn.model_selection import train_test_split\n",
        "from sklearn.metrics import classification_report\n",
        "\n",
        "import os\n",
        "import torch\n",
        "import torch.nn as nn\n",
        "import torch.nn.functional as F\n",
        "from torch.utils.data import TensorDataset, DataLoader\n",
        "import tqdm\n",
        "import gc"
      ],
      "metadata": {
        "id": "u-yrWT-Xoohy"
      },
      "execution_count": 1,
      "outputs": []
    },
    {
      "cell_type": "code",
      "execution_count": 2,
      "metadata": {
        "colab": {
          "base_uri": "https://localhost:8080/"
        },
        "id": "B1bW94rZoW-1",
        "outputId": "9c92a375-4e3e-41d5-f7d4-a711fb23f65e"
      },
      "outputs": [
        {
          "output_type": "stream",
          "name": "stdout",
          "text": [
            "Mounted at /content/drive\n"
          ]
        }
      ],
      "source": [
        "from google.colab import drive\n",
        "drive.mount('/content/drive', force_remount = True)"
      ]
    },
    {
      "cell_type": "code",
      "source": [
        "#load dataset\n",
        "df_tr = pd.read_csv('/content/drive/MyDrive/assignment_2/data_transaction.csv') "
      ],
      "metadata": {
        "id": "VULpuQthopk1"
      },
      "execution_count": 3,
      "outputs": []
    },
    {
      "cell_type": "code",
      "source": [
        "df_id = pd.read_csv('/content/drive/MyDrive/assignment_2/data_identity.csv')"
      ],
      "metadata": {
        "id": "JljtmKx_o3o7"
      },
      "execution_count": 4,
      "outputs": []
    },
    {
      "cell_type": "code",
      "source": [
        "gc.collect()"
      ],
      "metadata": {
        "colab": {
          "base_uri": "https://localhost:8080/"
        },
        "id": "qtmtCVaNMmN7",
        "outputId": "0d62a37d-30c2-4802-fd76-4e482ed7b239"
      },
      "execution_count": 5,
      "outputs": [
        {
          "output_type": "execute_result",
          "data": {
            "text/plain": [
              "114"
            ]
          },
          "metadata": {},
          "execution_count": 5
        }
      ]
    },
    {
      "cell_type": "code",
      "source": [
        "# merge 2 datasets \n",
        "df = pd.concat([df_tr, df_id], axis = 1)"
      ],
      "metadata": {
        "id": "BpOIRwyWo41J"
      },
      "execution_count": 6,
      "outputs": []
    },
    {
      "cell_type": "code",
      "source": [
        "Fraud_df = df[df[\"isFraud\"] == 1]\n",
        "#sorry, but my computer and colab are so slow and don't work at all \n",
        "# so, I used just 100000 rows of data\n",
        "#  count target class \"Fraud\" much lower than \"Not Fraud\", so I deleted only \"Not Fraud\" class rows  \n",
        "Not_fraud_df = df[df[\"isFraud\"] == 0][:100000]\n",
        "df = pd.concat([Fraud_df,Not_fraud_df],axis = 0)\n",
        "# shuffle dataset\n",
        "df = df.sample(frac=1).reset_index(drop=True)"
      ],
      "metadata": {
        "id": "bBX5Z7k6wrsU"
      },
      "execution_count": 7,
      "outputs": []
    },
    {
      "cell_type": "code",
      "source": [
        "target = df[\"isFraud\"]\n",
        "# drop useless features\n",
        "df = df.drop([\"TransactionID\", \"TransactionDT\", \"isFraud\"], axis = 1)\n",
        "#Label encoding of all categorical features\n",
        "for i in df.columns:\n",
        "    if df[i].dtype == np.dtype(object):\n",
        "        le = preprocessing.LabelEncoder()\n",
        "        df[i] = le.fit_transform(df[i])\n",
        "# scaling\n",
        "from sklearn.preprocessing import StandardScaler\n",
        "scaler = StandardScaler()\n",
        "df = scaler.fit_transform(df)"
      ],
      "metadata": {
        "colab": {
          "base_uri": "https://localhost:8080/"
        },
        "id": "LEo9KDqhwS9f",
        "outputId": "b837e97e-e1e1-4d7f-b1be-516b965c348f"
      },
      "execution_count": 8,
      "outputs": [
        {
          "output_type": "stream",
          "name": "stderr",
          "text": [
            "/usr/local/lib/python3.7/dist-packages/ipykernel_launcher.py:8: SettingWithCopyWarning: \n",
            "A value is trying to be set on a copy of a slice from a DataFrame.\n",
            "Try using .loc[row_indexer,col_indexer] = value instead\n",
            "\n",
            "See the caveats in the documentation: https://pandas.pydata.org/pandas-docs/stable/user_guide/indexing.html#returning-a-view-versus-a-copy\n",
            "  \n"
          ]
        }
      ]
    },
    {
      "cell_type": "code",
      "source": [
        "gc.collect()"
      ],
      "metadata": {
        "colab": {
          "base_uri": "https://localhost:8080/"
        },
        "id": "wfR2szW_Mwvm",
        "outputId": "dd5308bd-4628-45b0-f17e-ad77753ca29a"
      },
      "execution_count": 9,
      "outputs": [
        {
          "output_type": "execute_result",
          "data": {
            "text/plain": [
              "50"
            ]
          },
          "metadata": {},
          "execution_count": 9
        }
      ]
    },
    {
      "cell_type": "code",
      "source": [
        "# to tensor!\n",
        "df = torch.torch.from_numpy(pd.DataFrame(df).values).to(torch.float32)\n",
        "# mask data\n",
        "Ind_df = torch.isnan(df)\n",
        "# merge data and mask\n",
        "data = torch.hstack([df,Ind_df])\n",
        "# train_test_split in my interpretation :)\n",
        "X_train = data[:int(len(data)*0.8)]\n",
        "X_test = data[int(len(data)*0.8):]"
      ],
      "metadata": {
        "id": "izOp4LFlpNiH"
      },
      "execution_count": 10,
      "outputs": []
    },
    {
      "cell_type": "code",
      "source": [
        "y_train = target[:int(len(data)*0.8)]\n",
        "y_test = target[int(len(data)*0.8):]"
      ],
      "metadata": {
        "id": "96tpzaBdPVQp"
      },
      "execution_count": 11,
      "outputs": []
    },
    {
      "cell_type": "code",
      "source": [
        "# dataloader for models\n",
        "data_loader = DataLoader(torch.nan_to_num(X_train, nan=1.0), batch_size=300)\n",
        "test_data_loader = DataLoader(torch.nan_to_num(X_test, nan=1.0), batch_size=300)"
      ],
      "metadata": {
        "id": "5QqxarsGpVtN"
      },
      "execution_count": 12,
      "outputs": []
    },
    {
      "cell_type": "code",
      "source": [
        "gc.collect()"
      ],
      "metadata": {
        "colab": {
          "base_uri": "https://localhost:8080/"
        },
        "id": "kCi_3-g4M5Pe",
        "outputId": "c1b11c4b-e04a-4c26-fa99-4dc71a6c270a"
      },
      "execution_count": 13,
      "outputs": [
        {
          "output_type": "execute_result",
          "data": {
            "text/plain": [
              "250"
            ]
          },
          "metadata": {},
          "execution_count": 13
        }
      ]
    },
    {
      "cell_type": "code",
      "source": [
        "device = torch.device(\"cuda:0\" if torch.cuda.is_available() else \"cpu\")"
      ],
      "metadata": {
        "id": "Ma8DF6bAC2_O"
      },
      "execution_count": 14,
      "outputs": []
    },
    {
      "cell_type": "markdown",
      "source": [
        "Autoenoders"
      ],
      "metadata": {
        "id": "v63lZ23cpY-Z"
      }
    },
    {
      "cell_type": "markdown",
      "source": [
        "# Undercomplete autoencoder"
      ],
      "metadata": {
        "id": "OoYx2ElBeY6f"
      }
    },
    {
      "cell_type": "code",
      "source": [
        "class autoencoder(nn.Module):\n",
        "    def __init__(self, input_size, latent_dim):\n",
        "        super(autoencoder, self).__init__()\n",
        "        self.encoder = nn.Sequential(\n",
        "            nn.Linear(input_size, input_size//2),\n",
        "            nn.ReLU(True),\n",
        "            nn.Linear(input_size//2, input_size//3),\n",
        "            nn.Linear(input_size//3, input_size//4),\n",
        "            nn.Tanh(),\n",
        "            nn.Linear(input_size//4, latent_dim)\n",
        "          )\n",
        "        self.decoder = nn.Sequential(\n",
        "            nn.Linear(latent_dim, input_size//4),\n",
        "            nn.ReLU(True),\n",
        "            nn.Linear(input_size//4, input_size//3),\n",
        "            nn.Linear(input_size//3, input_size//2),\n",
        "            nn.Tanh(),\n",
        "            nn.Linear(input_size//2, input_size)\n",
        "          )\n",
        "        self.encoder.apply(self.__init_weights)\n",
        "        self.decoder.apply(self.__init_weights)\n",
        "        \n",
        "    def forward(self, x):\n",
        "        x = self.encoder(x)\n",
        "        x = self.decoder(x)\n",
        "        return x\n",
        "        \n",
        "        \n",
        "    \n",
        "    def encode(self,input):\n",
        "        return self.encoder(input)\n",
        "    \n",
        "    def __init_weights(self,m):\n",
        "      #Init the weights (optional)\n",
        "        if type(m) == nn.Linear:\n",
        "            torch.nn.init.xavier_uniform_(m.weight)\n",
        "            m.bias.data.fill_(0.01)"
      ],
      "metadata": {
        "id": "fiRZNtvTpbNK"
      },
      "execution_count": 15,
      "outputs": []
    },
    {
      "cell_type": "code",
      "source": [
        "learning_rate = 0.001\n",
        "num_epochs = 20\n",
        "AE = autoencoder(862,200).to(device)\n",
        "print(AE)\n",
        "\n",
        "criterion = nn.MSELoss()\n",
        "optimizer = torch.optim.SGD(AE.parameters(),lr=learning_rate, momentum = 0.5)"
      ],
      "metadata": {
        "colab": {
          "base_uri": "https://localhost:8080/"
        },
        "id": "j91Txdoopeh_",
        "outputId": "06721beb-aec1-4a8c-83c1-902a4413e374"
      },
      "execution_count": 16,
      "outputs": [
        {
          "output_type": "stream",
          "name": "stdout",
          "text": [
            "autoencoder(\n",
            "  (encoder): Sequential(\n",
            "    (0): Linear(in_features=862, out_features=431, bias=True)\n",
            "    (1): ReLU(inplace=True)\n",
            "    (2): Linear(in_features=431, out_features=287, bias=True)\n",
            "    (3): Linear(in_features=287, out_features=215, bias=True)\n",
            "    (4): Tanh()\n",
            "    (5): Linear(in_features=215, out_features=200, bias=True)\n",
            "  )\n",
            "  (decoder): Sequential(\n",
            "    (0): Linear(in_features=200, out_features=215, bias=True)\n",
            "    (1): ReLU(inplace=True)\n",
            "    (2): Linear(in_features=215, out_features=287, bias=True)\n",
            "    (3): Linear(in_features=287, out_features=431, bias=True)\n",
            "    (4): Tanh()\n",
            "    (5): Linear(in_features=431, out_features=862, bias=True)\n",
            "  )\n",
            ")\n"
          ]
        }
      ]
    },
    {
      "cell_type": "code",
      "source": [
        "temp_loss = 100000000\n",
        "best_on_test_model = 0\n",
        "best_epo_test = 0\n",
        "ae_loss = []\n",
        "for epoch in range(num_epochs):\n",
        "    epoch_loss = 0.0\n",
        "    test_loss = 0.0\n",
        "    for X in data_loader:\n",
        "        X = X[0].to(device)\n",
        "\n",
        "        optimizer.zero_grad()\n",
        "        # forward\n",
        "        output = AE(X)\n",
        "        loss = criterion(output, X)\n",
        "\n",
        "        # backward\n",
        "        loss.backward()\n",
        "        optimizer.step()\n",
        "\n",
        "        epoch_loss += loss.item()\n",
        "\n",
        "    ae_loss.append(loss.item())\n",
        "        \n",
        "        \n",
        "        #test\n",
        "    for t in test_data_loader: \n",
        "        t = t[0].to(device)\n",
        "        test_output = AE(t)\n",
        "        test_loss = criterion(test_output, t)\n",
        "\n",
        "        test_loss+= test_loss.item()\n",
        "            \n",
        "    if test_loss <= temp_loss:\n",
        "        temp_loss = test_loss\n",
        "        best_on_test_model = AE.state_dict()\n",
        "        best_epo_test = epoch\n",
        "        \n",
        "    print('train loss:  epoch [{}/{}], loss:{:.4f}'.format(epoch + 1, num_epochs, loss.item()))\n",
        "    print('test loss:  epoch [{}/{}], loss:{:.4f}'.format(epoch + 1, num_epochs, test_loss.item()))\n",
        "    print()\n",
        "print(\"loss on test: \",str(temp_loss))\n",
        "print(\"best epoch on test: \",str(best_epo_test))\n",
        "torch.save(best_on_test_model, \"/content/drive/MyDrive/AE_model\")"
      ],
      "metadata": {
        "colab": {
          "base_uri": "https://localhost:8080/"
        },
        "id": "iFUiWTZkpyTR",
        "outputId": "5477133b-e4be-432d-98a7-8551ac7b7852"
      },
      "execution_count": 18,
      "outputs": [
        {
          "output_type": "stream",
          "name": "stdout",
          "text": [
            "train loss:  epoch [1/20], loss:0.8630\n",
            "test loss:  epoch [1/20], loss:1.1568\n",
            "\n",
            "train loss:  epoch [2/20], loss:0.8284\n",
            "test loss:  epoch [2/20], loss:1.0941\n",
            "\n",
            "train loss:  epoch [3/20], loss:0.7912\n",
            "test loss:  epoch [3/20], loss:1.0180\n",
            "\n",
            "train loss:  epoch [4/20], loss:0.7410\n",
            "test loss:  epoch [4/20], loss:0.9157\n",
            "\n",
            "train loss:  epoch [5/20], loss:0.6854\n",
            "test loss:  epoch [5/20], loss:0.8041\n",
            "\n",
            "train loss:  epoch [6/20], loss:0.6310\n",
            "test loss:  epoch [6/20], loss:0.6992\n",
            "\n",
            "train loss:  epoch [7/20], loss:0.5829\n",
            "test loss:  epoch [7/20], loss:0.6091\n",
            "\n",
            "train loss:  epoch [8/20], loss:0.5430\n",
            "test loss:  epoch [8/20], loss:0.5364\n",
            "\n",
            "train loss:  epoch [9/20], loss:0.5114\n",
            "test loss:  epoch [9/20], loss:0.4808\n",
            "\n",
            "train loss:  epoch [10/20], loss:0.4871\n",
            "test loss:  epoch [10/20], loss:0.4395\n",
            "\n",
            "train loss:  epoch [11/20], loss:0.4688\n",
            "test loss:  epoch [11/20], loss:0.4094\n",
            "\n",
            "train loss:  epoch [12/20], loss:0.4550\n",
            "test loss:  epoch [12/20], loss:0.3877\n",
            "\n",
            "train loss:  epoch [13/20], loss:0.4448\n",
            "test loss:  epoch [13/20], loss:0.3720\n",
            "\n",
            "train loss:  epoch [14/20], loss:0.4373\n",
            "test loss:  epoch [14/20], loss:0.3606\n",
            "\n",
            "train loss:  epoch [15/20], loss:0.4318\n",
            "test loss:  epoch [15/20], loss:0.3524\n",
            "\n",
            "train loss:  epoch [16/20], loss:0.4276\n",
            "test loss:  epoch [16/20], loss:0.3463\n",
            "\n",
            "train loss:  epoch [17/20], loss:0.4244\n",
            "test loss:  epoch [17/20], loss:0.3418\n",
            "\n",
            "train loss:  epoch [18/20], loss:0.4219\n",
            "test loss:  epoch [18/20], loss:0.3383\n",
            "\n",
            "train loss:  epoch [19/20], loss:0.4200\n",
            "test loss:  epoch [19/20], loss:0.3356\n",
            "\n",
            "train loss:  epoch [20/20], loss:0.4185\n",
            "test loss:  epoch [20/20], loss:0.3336\n",
            "\n",
            "loss on test:  tensor(0.3336, grad_fn=<AddBackward0>)\n",
            "best epoch on test:  19\n"
          ]
        }
      ]
    },
    {
      "cell_type": "markdown",
      "source": [
        "autoencoders loss"
      ],
      "metadata": {
        "id": "rsLKCrVxHy4m"
      }
    },
    {
      "cell_type": "code",
      "source": [
        "import matplotlib.pyplot as plt\n",
        "# plot loss\n",
        "plt.plot(ae_loss)\n",
        "plt.show()"
      ],
      "metadata": {
        "colab": {
          "base_uri": "https://localhost:8080/",
          "height": 265
        },
        "id": "w8Iaq5faT7Fy",
        "outputId": "e9acc66f-b700-4428-8295-a0dbbfcdaaae"
      },
      "execution_count": 19,
      "outputs": [
        {
          "output_type": "display_data",
          "data": {
            "text/plain": [
              "<Figure size 432x288 with 1 Axes>"
            ],
            "image/png": "[encoded data removed]"
          },
          "metadata": {
            "needs_background": "light"
          }
        }
      ]
    },
    {
      "cell_type": "markdown",
      "source": [
        "Results of Autoencoder"
      ],
      "metadata": {
        "id": "QsH_VWaEqLML"
      }
    },
    {
      "cell_type": "code",
      "source": [
        "# load my model from drive\n",
        "AE.load_state_dict(torch.load(\"/content/drive/MyDrive/AE_model\"))\n",
        "AE.eval()\n",
        "train_data = []\n",
        "test_data = []\n",
        "# creating dataset for classification\n",
        "for i in data_loader:\n",
        "  i = i.to(device)\n",
        "  train_data.append(AE(i))\n",
        "for i in test_data_loader:\n",
        "  i = i.to(device)\n",
        "  test_data.append(AE(i))"
      ],
      "metadata": {
        "id": "UPn_lrjZFakW"
      },
      "execution_count": 17,
      "outputs": []
    },
    {
      "cell_type": "code",
      "source": [
        "# tensors to numpy\n",
        "X_train_AE = torch.cat(train_data).cpu().detach().numpy()\n",
        "X_test_AE = torch.cat(test_data).cpu().detach().numpy()\n",
        "gc.collect()"
      ],
      "metadata": {
        "colab": {
          "base_uri": "https://localhost:8080/"
        },
        "id": "6RYZELpeo3Gv",
        "outputId": "67ea371c-edbd-403e-b9d6-71250d0c94de"
      },
      "execution_count": 18,
      "outputs": [
        {
          "output_type": "execute_result",
          "data": {
            "text/plain": [
              "50"
            ]
          },
          "metadata": {},
          "execution_count": 18
        }
      ]
    },
    {
      "cell_type": "code",
      "source": [
        "#finally , well known type and our dataset!!!\n",
        "X_train_AE_df = pd.DataFrame(X_train_AE)\n",
        "X_test_AE_df = pd.DataFrame(X_test_AE)\n",
        "\n",
        "# X_train_AE_df.to_csv('/content/drive/MyDrive/assignment_2/X_train_AE.csv', index=False)\n",
        "# X_test_AE_df.to_csv('/content/drive/MyDrive/assignment_2/X_test_AE.csv', index=False)"
      ],
      "metadata": {
        "id": "8MbUhtIYsum4"
      },
      "execution_count": 19,
      "outputs": []
    },
    {
      "cell_type": "markdown",
      "source": [
        "Classification on autoencoders dataset"
      ],
      "metadata": {
        "id": "Kaw4rwH264cT"
      }
    },
    {
      "cell_type": "code",
      "source": [
        "# RandomForest model\n",
        "from sklearn.ensemble import RandomForestClassifier\n",
        "clf_ae = RandomForestClassifier(max_depth=3)\n",
        "clf_ae.fit(X_train_AE_df , y_train)\n",
        "y_pred = clf_ae.predict(X_test_AE_df)"
      ],
      "metadata": {
        "id": "0Z_UGKVuBh3i"
      },
      "execution_count": 23,
      "outputs": []
    },
    {
      "cell_type": "code",
      "source": [
        "print(classification_report(y_test,y_pred))"
      ],
      "metadata": {
        "colab": {
          "base_uri": "https://localhost:8080/"
        },
        "id": "fqXifGRP1UxT",
        "outputId": "22aa8f65-b2f8-4870-e058-efd4a91e016f"
      },
      "execution_count": 24,
      "outputs": [
        {
          "output_type": "stream",
          "name": "stdout",
          "text": [
            "              precision    recall  f1-score   support\n",
            "\n",
            "           0       0.87      1.00      0.93     20032\n",
            "           1       0.98      0.26      0.41      4101\n",
            "\n",
            "    accuracy                           0.87     24133\n",
            "   macro avg       0.92      0.63      0.67     24133\n",
            "weighted avg       0.89      0.87      0.84     24133\n",
            "\n"
          ]
        }
      ]
    },
    {
      "cell_type": "markdown",
      "source": [
        "# Classification on statistical imputing aproach dataset"
      ],
      "metadata": {
        "id": "d40mf6fa4XkN"
      }
    },
    {
      "cell_type": "code",
      "source": [
        "# creating dataset\n",
        "stat_df = pd.concat([Fraud_df,Not_fraud_df],axis = 0)\n",
        "stat_df = stat_df.sample(frac=1).reset_index(drop=True)"
      ],
      "metadata": {
        "id": "jAp3EspB401o"
      },
      "execution_count": 25,
      "outputs": []
    },
    {
      "cell_type": "code",
      "source": [
        "target = stat_df[\"isFraud\"]\n",
        "\n",
        "stat_df = stat_df.drop([\"TransactionID\", \"TransactionDT\", \"isFraud\"], axis = 1)\n",
        "# LabelEncoding\n",
        "for i in stat_df.columns:\n",
        "    if stat_df[i].dtype == np.dtype(object):\n",
        "        le = preprocessing.LabelEncoder()\n",
        "        stat_df[i] = le.fit_transform(stat_df[i])"
      ],
      "metadata": {
        "colab": {
          "base_uri": "https://localhost:8080/"
        },
        "id": "Bt2w_vDiCP0d",
        "outputId": "98b205b8-1296-4ec1-c841-a5427d9ac185"
      },
      "execution_count": 26,
      "outputs": [
        {
          "output_type": "stream",
          "name": "stderr",
          "text": [
            "/usr/local/lib/python3.7/dist-packages/ipykernel_launcher.py:8: SettingWithCopyWarning: \n",
            "A value is trying to be set on a copy of a slice from a DataFrame.\n",
            "Try using .loc[row_indexer,col_indexer] = value instead\n",
            "\n",
            "See the caveats in the documentation: https://pandas.pydata.org/pandas-docs/stable/user_guide/indexing.html#returning-a-view-versus-a-copy\n",
            "  \n"
          ]
        }
      ]
    },
    {
      "cell_type": "code",
      "source": [
        "# nan imputing by puting column mean instead\n",
        "stat_df = stat_df.apply(lambda x: x.fillna(x.mean()),axis=0)"
      ],
      "metadata": {
        "id": "HrTuw2T_DY6G"
      },
      "execution_count": 27,
      "outputs": []
    },
    {
      "cell_type": "code",
      "source": [
        "gc.collect()"
      ],
      "metadata": {
        "colab": {
          "base_uri": "https://localhost:8080/"
        },
        "id": "ym4bhwyBciFj",
        "outputId": "d64839eb-e049-4b57-846b-fc36edc8d663"
      },
      "execution_count": 28,
      "outputs": [
        {
          "output_type": "execute_result",
          "data": {
            "text/plain": [
              "44"
            ]
          },
          "metadata": {},
          "execution_count": 28
        }
      ]
    },
    {
      "cell_type": "code",
      "source": [
        "# train_test_split\n",
        "X_train_stat = stat_df[:int(len(stat_df)*0.8)]\n",
        "X_test_stat = stat_df[int(len(stat_df)*0.8):]\n",
        "y_train_stat = target[:int(len(stat_df)*0.8)]\n",
        "y_test_stat = target[int(len(stat_df)*0.8):]"
      ],
      "metadata": {
        "id": "D47U2T18dH2L"
      },
      "execution_count": 29,
      "outputs": []
    },
    {
      "cell_type": "code",
      "source": [
        "# classification\n",
        "clf_ae_stat = RandomForestClassifier(max_depth=3)\n",
        "clf_ae_stat.fit(X_train_stat , y_train_stat)\n",
        "y_pred = clf_ae_stat.predict(X_test_stat)"
      ],
      "metadata": {
        "id": "_Y3LusEBDpY8"
      },
      "execution_count": 30,
      "outputs": []
    },
    {
      "cell_type": "code",
      "source": [
        "print(classification_report(y_test_stat,y_pred))"
      ],
      "metadata": {
        "colab": {
          "base_uri": "https://localhost:8080/"
        },
        "id": "eCVSHUwqcn8T",
        "outputId": "59b2b48a-24b2-449a-f00b-674068302178"
      },
      "execution_count": 31,
      "outputs": [
        {
          "output_type": "stream",
          "name": "stdout",
          "text": [
            "              precision    recall  f1-score   support\n",
            "\n",
            "           0       0.96      0.98      0.97     20022\n",
            "           1       0.90      0.82      0.86      4111\n",
            "\n",
            "    accuracy                           0.95     24133\n",
            "   macro avg       0.93      0.90      0.92     24133\n",
            "weighted avg       0.95      0.95      0.95     24133\n",
            "\n"
          ]
        }
      ]
    },
    {
      "cell_type": "markdown",
      "source": [
        "# Regularized autoencoder"
      ],
      "metadata": {
        "id": "n9rm6uUAejBm"
      }
    },
    {
      "cell_type": "markdown",
      "source": [
        "All further code almost same as in Undercomplete autoencoder part, so comments also same"
      ],
      "metadata": {
        "id": "aStGaf4zHhDN"
      }
    },
    {
      "cell_type": "code",
      "source": [
        "class reg_autoencoder(nn.Module):\n",
        "    def __init__(self, input_size, latent_dim):\n",
        "        super(reg_autoencoder, self).__init__()\n",
        "        self.encoder = nn.Sequential(\n",
        "            nn.Linear(input_size, input_size//2),\n",
        "            nn.ReLU(True),\n",
        "            nn.Linear(input_size//2, input_size//3),\n",
        "            nn.Linear(input_size//3, input_size//4),\n",
        "            nn.Tanh(),\n",
        "            nn.Linear(input_size//4, latent_dim)\n",
        "          )\n",
        "        self.decoder = nn.Sequential(\n",
        "            nn.Linear(latent_dim, input_size//4),\n",
        "            nn.ReLU(True),\n",
        "            nn.Linear(input_size//4, input_size//3),\n",
        "            nn.Linear(input_size//3, input_size//2),\n",
        "            nn.Tanh(),\n",
        "            nn.Linear(input_size//2, input_size)\n",
        "          )\n",
        "        self.encoder.apply(self.__init_weights)\n",
        "        self.decoder.apply(self.__init_weights)\n",
        "        \n",
        "    def forward(self, x):\n",
        "        x = self.encoder(x)\n",
        "        x = self.decoder(x)\n",
        "        return x\n",
        "        \n",
        "        \n",
        "    \n",
        "    def encode(self,input):\n",
        "        return self.encoder(input)\n",
        "    \n",
        "    def __init_weights(self,m):\n",
        "      #Init the weights (optional)\n",
        "        if type(m) == nn.Linear:\n",
        "            torch.nn.init.xavier_uniform_(m.weight)\n",
        "            m.bias.data.fill_(0.01)"
      ],
      "metadata": {
        "id": "XisVE3VWrJvP"
      },
      "execution_count": 32,
      "outputs": []
    },
    {
      "cell_type": "code",
      "source": [
        "learning_rate = 0.001\n",
        "num_epochs = 30\n",
        "reg_AE = reg_autoencoder(862,200).to(device)\n",
        "print(reg_AE)\n",
        "\n",
        "criterion = nn.MSELoss()\n",
        "optimizer = torch.optim.Adam(reg_AE.parameters(),lr=learning_rate)"
      ],
      "metadata": {
        "colab": {
          "base_uri": "https://localhost:8080/"
        },
        "id": "M3MahXl6NlIN",
        "outputId": "e94bd297-474c-4192-d147-d5021424ddd0"
      },
      "execution_count": 33,
      "outputs": [
        {
          "output_type": "stream",
          "name": "stdout",
          "text": [
            "reg_autoencoder(\n",
            "  (encoder): Sequential(\n",
            "    (0): Linear(in_features=862, out_features=431, bias=True)\n",
            "    (1): ReLU(inplace=True)\n",
            "    (2): Linear(in_features=431, out_features=287, bias=True)\n",
            "    (3): Linear(in_features=287, out_features=215, bias=True)\n",
            "    (4): Tanh()\n",
            "    (5): Linear(in_features=215, out_features=200, bias=True)\n",
            "  )\n",
            "  (decoder): Sequential(\n",
            "    (0): Linear(in_features=200, out_features=215, bias=True)\n",
            "    (1): ReLU(inplace=True)\n",
            "    (2): Linear(in_features=215, out_features=287, bias=True)\n",
            "    (3): Linear(in_features=287, out_features=431, bias=True)\n",
            "    (4): Tanh()\n",
            "    (5): Linear(in_features=431, out_features=862, bias=True)\n",
            "  )\n",
            ")\n"
          ]
        }
      ]
    },
    {
      "cell_type": "code",
      "source": [
        "temp_loss = 100000000\n",
        "best_on_test_model = 0\n",
        "best_epo_test = 0\n",
        "rae_loss = []\n",
        "for epoch in range(num_epochs):\n",
        "    epoch_loss = 0.0\n",
        "    test_loss = 0.0\n",
        "    for X in data_loader:\n",
        "        X = X[0].to(device)\n",
        "\n",
        "        optimizer.zero_grad()\n",
        "        # forward\n",
        "        output = reg_AE(X)\n",
        "        loss = criterion(output, X)\n",
        "\n",
        "        regul = 0.0\n",
        "        for param in reg_AE.parameters():\n",
        "            regul += torch.abs((torch.norm(param, 1)))\n",
        "        regul *= 0.00001\n",
        "\n",
        "        loss += regul\n",
        "\n",
        "        # backward\n",
        "        loss.backward()\n",
        "        optimizer.step()\n",
        "\n",
        "        epoch_loss += loss.item()\n",
        "\n",
        "    rae_loss.append(loss.item())        \n",
        "\n",
        "        #test\n",
        "    for t in test_data_loader: \n",
        "        t = t[0].to(device)\n",
        "        test_output = reg_AE(t)\n",
        "        test_loss = criterion(test_output, t)\n",
        "\n",
        "        test_loss+= test_loss.item()\n",
        "            \n",
        "    if test_loss <= temp_loss:\n",
        "        temp_loss = test_loss\n",
        "        best_on_test_model = reg_AE.state_dict()\n",
        "        best_epo_test = epoch\n",
        "        \n",
        "    print('train loss:  epoch [{}/{}], loss:{:.4f}'.format(epoch + 1, num_epochs, loss.item()))\n",
        "    print('test loss:  epoch [{}/{}], loss:{:.4f}'.format(epoch + 1, num_epochs, test_loss.item()))\n",
        "    print()\n",
        "print(\"loss on test: \",str(temp_loss))\n",
        "print(\"best epoch on test: \",str(best_epo_test))\n",
        "torch.save(best_on_test_model, \"/content/drive/MyDrive/RAE_model\")"
      ],
      "metadata": {
        "colab": {
          "base_uri": "https://localhost:8080/"
        },
        "id": "ZvhJxMPnPHPj",
        "outputId": "103805d4-906c-4ed2-c32a-b61c18c87af5"
      },
      "execution_count": 17,
      "outputs": [
        {
          "output_type": "stream",
          "name": "stdout",
          "text": [
            "train loss:  epoch [1/30], loss:1.0507\n",
            "test loss:  epoch [1/30], loss:0.3430\n",
            "\n",
            "train loss:  epoch [2/30], loss:1.3865\n",
            "test loss:  epoch [2/30], loss:0.1348\n",
            "\n",
            "train loss:  epoch [3/30], loss:0.8718\n",
            "test loss:  epoch [3/30], loss:0.1216\n",
            "\n",
            "train loss:  epoch [4/30], loss:0.7763\n",
            "test loss:  epoch [4/30], loss:0.1340\n",
            "\n",
            "train loss:  epoch [5/30], loss:0.7694\n",
            "test loss:  epoch [5/30], loss:0.0956\n",
            "\n",
            "train loss:  epoch [6/30], loss:0.7150\n",
            "test loss:  epoch [6/30], loss:0.0990\n",
            "\n",
            "train loss:  epoch [7/30], loss:0.6654\n",
            "test loss:  epoch [7/30], loss:0.0982\n",
            "\n",
            "train loss:  epoch [8/30], loss:0.6647\n",
            "test loss:  epoch [8/30], loss:0.1134\n",
            "\n",
            "train loss:  epoch [9/30], loss:0.6342\n",
            "test loss:  epoch [9/30], loss:0.1080\n",
            "\n",
            "train loss:  epoch [10/30], loss:0.7398\n",
            "test loss:  epoch [10/30], loss:0.2080\n",
            "\n",
            "train loss:  epoch [11/30], loss:0.7302\n",
            "test loss:  epoch [11/30], loss:0.1877\n",
            "\n",
            "train loss:  epoch [12/30], loss:0.6535\n",
            "test loss:  epoch [12/30], loss:0.1255\n",
            "\n",
            "train loss:  epoch [13/30], loss:0.9108\n",
            "test loss:  epoch [13/30], loss:0.1283\n",
            "\n",
            "train loss:  epoch [14/30], loss:0.6762\n",
            "test loss:  epoch [14/30], loss:0.1464\n",
            "\n",
            "train loss:  epoch [15/30], loss:0.6429\n",
            "test loss:  epoch [15/30], loss:0.1164\n",
            "\n",
            "train loss:  epoch [16/30], loss:0.7309\n",
            "test loss:  epoch [16/30], loss:0.2216\n",
            "\n",
            "train loss:  epoch [17/30], loss:0.6386\n",
            "test loss:  epoch [17/30], loss:0.1194\n",
            "\n",
            "train loss:  epoch [18/30], loss:0.6069\n",
            "test loss:  epoch [18/30], loss:0.1219\n",
            "\n",
            "train loss:  epoch [19/30], loss:0.6074\n",
            "test loss:  epoch [19/30], loss:0.1577\n",
            "\n",
            "train loss:  epoch [20/30], loss:0.5900\n",
            "test loss:  epoch [20/30], loss:0.1435\n",
            "\n",
            "train loss:  epoch [21/30], loss:0.5984\n",
            "test loss:  epoch [21/30], loss:0.1250\n",
            "\n",
            "train loss:  epoch [22/30], loss:0.5787\n",
            "test loss:  epoch [22/30], loss:0.1252\n",
            "\n",
            "train loss:  epoch [23/30], loss:0.5610\n",
            "test loss:  epoch [23/30], loss:0.1241\n",
            "\n",
            "train loss:  epoch [24/30], loss:0.5988\n",
            "test loss:  epoch [24/30], loss:0.1483\n",
            "\n",
            "train loss:  epoch [25/30], loss:0.5879\n",
            "test loss:  epoch [25/30], loss:0.1289\n",
            "\n",
            "train loss:  epoch [26/30], loss:0.6625\n",
            "test loss:  epoch [26/30], loss:0.1348\n",
            "\n",
            "train loss:  epoch [27/30], loss:0.5907\n",
            "test loss:  epoch [27/30], loss:0.1061\n",
            "\n",
            "train loss:  epoch [28/30], loss:0.5937\n",
            "test loss:  epoch [28/30], loss:0.1512\n",
            "\n",
            "train loss:  epoch [29/30], loss:0.6093\n",
            "test loss:  epoch [29/30], loss:0.1146\n",
            "\n",
            "train loss:  epoch [30/30], loss:0.6786\n",
            "test loss:  epoch [30/30], loss:0.1130\n",
            "\n",
            "loss on test:  tensor(0.0956, grad_fn=<AddBackward0>)\n",
            "best epoch on test:  4\n"
          ]
        }
      ]
    },
    {
      "cell_type": "code",
      "source": [
        "import matplotlib.pyplot as plt\n",
        "\n",
        "plt.plot(rae_loss)\n",
        "plt.show()"
      ],
      "metadata": {
        "colab": {
          "base_uri": "https://localhost:8080/",
          "height": 265
        },
        "id": "rTWlX1GUfql3",
        "outputId": "c3fa06fa-a419-448a-f2cd-aacb86e43ce4"
      },
      "execution_count": 18,
      "outputs": [
        {
          "output_type": "display_data",
          "data": {
            "text/plain": [
              "<Figure size 432x288 with 1 Axes>"
            ],
            "image/png": "[encoded data removed]"
          },
          "metadata": {
            "needs_background": "light"
          }
        }
      ]
    },
    {
      "cell_type": "markdown",
      "source": [
        "Classification on Reg Autoencoders dataset"
      ],
      "metadata": {
        "id": "MxKsDKrQiMZ5"
      }
    },
    {
      "cell_type": "code",
      "source": [
        "reg_AE.load_state_dict(torch.load(\"/content/drive/MyDrive/RAE_model\"))\n",
        "reg_AE.eval()\n",
        "train_data = []\n",
        "test_data = []\n",
        "for i in data_loader:\n",
        "  i = i.to(device)\n",
        "  train_data.append(reg_AE(i))\n",
        "for i in test_data_loader:\n",
        "  i = i.to(device)\n",
        "  test_data.append(reg_AE(i))"
      ],
      "metadata": {
        "id": "ZTGSez7JfqkK"
      },
      "execution_count": 34,
      "outputs": []
    },
    {
      "cell_type": "code",
      "source": [
        "X_train_RAE = torch.cat(train_data).cpu().detach().numpy()\n",
        "X_test_RAE = torch.cat(test_data).cpu().detach().numpy()\n",
        "gc.collect()"
      ],
      "metadata": {
        "colab": {
          "base_uri": "https://localhost:8080/"
        },
        "id": "rDoBUzdvfqgY",
        "outputId": "62ecda0c-a3d2-4e94-cdcc-39ff81444629"
      },
      "execution_count": 35,
      "outputs": [
        {
          "output_type": "execute_result",
          "data": {
            "text/plain": [
              "209"
            ]
          },
          "metadata": {},
          "execution_count": 35
        }
      ]
    },
    {
      "cell_type": "code",
      "source": [
        "X_train_RAE_df = pd.DataFrame(X_train_RAE)\n",
        "X_test_RAE_df = pd.DataFrame(X_test_RAE)"
      ],
      "metadata": {
        "id": "55Tzh3-dfqdu"
      },
      "execution_count": 36,
      "outputs": []
    },
    {
      "cell_type": "code",
      "source": [
        "from sklearn.ensemble import RandomForestClassifier\n",
        "clf_rae = RandomForestClassifier(max_depth=3)\n",
        "clf_rae.fit(X_train_RAE_df , y_train)\n",
        "y_pred = clf_rae.predict(X_test_RAE_df)"
      ],
      "metadata": {
        "id": "zCiYZ2y2fqZ6"
      },
      "execution_count": 22,
      "outputs": []
    },
    {
      "cell_type": "code",
      "source": [
        "print(classification_report(y_test,y_pred))"
      ],
      "metadata": {
        "colab": {
          "base_uri": "https://localhost:8080/"
        },
        "id": "MXjfakILfqOc",
        "outputId": "62dcb10c-ea72-4b1f-b4d3-ff817bd52f03"
      },
      "execution_count": 23,
      "outputs": [
        {
          "output_type": "stream",
          "name": "stdout",
          "text": [
            "              precision    recall  f1-score   support\n",
            "\n",
            "           0       0.85      0.98      0.91     20060\n",
            "           1       0.64      0.16      0.25      4073\n",
            "\n",
            "    accuracy                           0.84     24133\n",
            "   macro avg       0.75      0.57      0.58     24133\n",
            "weighted avg       0.82      0.84      0.80     24133\n",
            "\n"
          ]
        }
      ]
    },
    {
      "cell_type": "markdown",
      "source": [
        "# Variational autoencoder"
      ],
      "metadata": {
        "id": "BXdb9CcNepDQ"
      }
    },
    {
      "cell_type": "code",
      "source": [
        "class VAE(nn.Module):\n",
        "    def __init__(self, input_size=862, h_dim=400, z_dim=20):\n",
        "        super(VAE, self).__init__()\n",
        "        self.fc1 = nn.Linear(input_size, h_dim)\n",
        "        self.fc2 = nn.Linear(h_dim, z_dim)\n",
        "        self.fc3 = nn.Linear(h_dim, z_dim)\n",
        "        self.fc4 = nn.Linear(z_dim, h_dim)\n",
        "        self.fc5 = nn.Linear(h_dim, input_size//2)\n",
        "        \n",
        "    def encode(self, x):\n",
        "        h = F.relu(self.fc1(x))\n",
        "        return self.fc2(h), self.fc3(h)\n",
        "    \n",
        "    def reparameterize(self, mu, log_var):\n",
        "        std = torch.exp(log_var/2)\n",
        "        eps = torch.randn_like(std)\n",
        "        return mu + eps * std\n",
        "\n",
        "    def decode(self, z):\n",
        "        h = F.relu(self.fc4(z))\n",
        "        return F.sigmoid(self.fc5(h))\n",
        "    \n",
        "    def forward(self, x):\n",
        "        mu, log_var = self.encode(x[0]*x[1])\n",
        "        z = self.reparameterize(mu, log_var)\n",
        "        x_reconst = self.decode(z)\n",
        "        return x_reconst, mu, log_var\n",
        "\n",
        "model = VAE()\n",
        "optimizer = torch.optim.Adam(model.parameters(), lr=0.001)"
      ],
      "metadata": {
        "id": "R8PkjCkJVgcm"
      },
      "execution_count": 16,
      "outputs": []
    },
    {
      "cell_type": "code",
      "source": [
        "# Start training\n",
        "cri = nn.MSELoss()\n",
        "vae_loss = []\n",
        "num_epochs = 30\n",
        "for epoch in range(num_epochs):\n",
        "    for i, x in enumerate(data_loader):\n",
        "        # Forward pass\n",
        "\n",
        "        x1 = x[:,:431]\n",
        "        mask = x[:,431:]\n",
        "        rec, mu, log_var = model(x)\n",
        "        \n",
        "        reconst_loss = cri(rec*mask, x1)\n",
        "        kl_div = - 0.5 * torch.sum(1 + log_var - mu.pow(2) - log_var.exp())\n",
        "        \n",
        "        # Backprop and optimize\n",
        "        loss = reconst_loss + kl_div\n",
        "        optimizer.zero_grad()\n",
        "        loss.backward()\n",
        "        optimizer.step()\n",
        "\n",
        "        if (i+1) % 157 == 0:\n",
        "            print (\"Epoch[{}/{}], Step [{}/{}], Reconst Loss: {:.4f}, KL Div: {:.4f}\" \n",
        "                   .format(epoch+1, num_epochs, i+1, len(data_loader), reconst_loss.item(), kl_div.item()))\n",
        "    vae_loss.append(reconst_loss)\n",
        "\n",
        "torch.save(model.state_dict(), \"/content/drive/MyDrive/VAE_model\")"
      ],
      "metadata": {
        "colab": {
          "base_uri": "https://localhost:8080/"
        },
        "id": "k1EMAsNda-K9",
        "outputId": "fe4040b4-4c10-45b4-aa8c-6b79cd7f6c01"
      },
      "execution_count": 18,
      "outputs": [
        {
          "output_type": "stream",
          "name": "stderr",
          "text": [
            "/usr/local/lib/python3.7/dist-packages/torch/nn/functional.py:1944: UserWarning: nn.functional.sigmoid is deprecated. Use torch.sigmoid instead.\n",
            "  warnings.warn(\"nn.functional.sigmoid is deprecated. Use torch.sigmoid instead.\")\n"
          ]
        },
        {
          "output_type": "stream",
          "name": "stdout",
          "text": [
            "Epoch[1/30], Step [157/322], Reconst Loss: 0.6908, KL Div: 0.0018\n",
            "Epoch[1/30], Step [314/322], Reconst Loss: 0.6765, KL Div: 0.0041\n",
            "Epoch[2/30], Step [157/322], Reconst Loss: 0.6902, KL Div: 0.0006\n",
            "Epoch[2/30], Step [314/322], Reconst Loss: 0.6763, KL Div: 0.0008\n",
            "Epoch[3/30], Step [157/322], Reconst Loss: 0.6902, KL Div: 0.0004\n",
            "Epoch[3/30], Step [314/322], Reconst Loss: 0.6763, KL Div: 0.0001\n",
            "Epoch[4/30], Step [157/322], Reconst Loss: 0.6902, KL Div: 0.0000\n",
            "Epoch[4/30], Step [314/322], Reconst Loss: 0.6763, KL Div: 0.0000\n",
            "Epoch[5/30], Step [157/322], Reconst Loss: 0.6902, KL Div: 0.0000\n",
            "Epoch[5/30], Step [314/322], Reconst Loss: 0.6763, KL Div: 0.0000\n",
            "Epoch[6/30], Step [157/322], Reconst Loss: 0.6902, KL Div: -0.0000\n",
            "Epoch[6/30], Step [314/322], Reconst Loss: 0.6763, KL Div: -0.0000\n",
            "Epoch[7/30], Step [157/322], Reconst Loss: 0.6902, KL Div: 0.0000\n",
            "Epoch[7/30], Step [314/322], Reconst Loss: 0.6763, KL Div: -0.0000\n",
            "Epoch[8/30], Step [157/322], Reconst Loss: 0.6902, KL Div: -0.0000\n",
            "Epoch[8/30], Step [314/322], Reconst Loss: 0.6763, KL Div: -0.0000\n",
            "Epoch[9/30], Step [157/322], Reconst Loss: 0.6902, KL Div: -0.0000\n",
            "Epoch[9/30], Step [314/322], Reconst Loss: 0.6763, KL Div: -0.0000\n",
            "Epoch[10/30], Step [157/322], Reconst Loss: 0.6902, KL Div: -0.0000\n",
            "Epoch[10/30], Step [314/322], Reconst Loss: 0.6763, KL Div: -0.0000\n",
            "Epoch[11/30], Step [157/322], Reconst Loss: 0.6902, KL Div: -0.0000\n",
            "Epoch[11/30], Step [314/322], Reconst Loss: 0.6763, KL Div: -0.0000\n",
            "Epoch[12/30], Step [157/322], Reconst Loss: 0.6902, KL Div: -0.0000\n",
            "Epoch[12/30], Step [314/322], Reconst Loss: 0.6763, KL Div: -0.0000\n",
            "Epoch[13/30], Step [157/322], Reconst Loss: 0.6902, KL Div: -0.0000\n",
            "Epoch[13/30], Step [314/322], Reconst Loss: 0.6763, KL Div: -0.0000\n",
            "Epoch[14/30], Step [157/322], Reconst Loss: 0.6902, KL Div: -0.0000\n",
            "Epoch[14/30], Step [314/322], Reconst Loss: 0.6763, KL Div: -0.0000\n",
            "Epoch[15/30], Step [157/322], Reconst Loss: 0.6902, KL Div: -0.0000\n",
            "Epoch[15/30], Step [314/322], Reconst Loss: 0.6763, KL Div: -0.0000\n",
            "Epoch[16/30], Step [157/322], Reconst Loss: 0.6902, KL Div: -0.0000\n",
            "Epoch[16/30], Step [314/322], Reconst Loss: 0.6763, KL Div: -0.0000\n",
            "Epoch[17/30], Step [157/322], Reconst Loss: 0.6902, KL Div: -0.0000\n",
            "Epoch[17/30], Step [314/322], Reconst Loss: 0.6763, KL Div: -0.0000\n",
            "Epoch[18/30], Step [157/322], Reconst Loss: 0.6902, KL Div: -0.0000\n",
            "Epoch[18/30], Step [314/322], Reconst Loss: 0.6763, KL Div: -0.0000\n",
            "Epoch[19/30], Step [157/322], Reconst Loss: 0.6902, KL Div: -0.0000\n",
            "Epoch[19/30], Step [314/322], Reconst Loss: 0.6763, KL Div: -0.0000\n",
            "Epoch[20/30], Step [157/322], Reconst Loss: 0.6902, KL Div: -0.0000\n",
            "Epoch[20/30], Step [314/322], Reconst Loss: 0.6763, KL Div: -0.0000\n",
            "Epoch[21/30], Step [157/322], Reconst Loss: 0.6902, KL Div: -0.0000\n",
            "Epoch[21/30], Step [314/322], Reconst Loss: 0.6763, KL Div: -0.0000\n",
            "Epoch[22/30], Step [157/322], Reconst Loss: 0.6902, KL Div: -0.0000\n",
            "Epoch[22/30], Step [314/322], Reconst Loss: 0.6763, KL Div: -0.0000\n",
            "Epoch[23/30], Step [157/322], Reconst Loss: 0.6902, KL Div: -0.0000\n",
            "Epoch[23/30], Step [314/322], Reconst Loss: 0.6763, KL Div: -0.0000\n",
            "Epoch[24/30], Step [157/322], Reconst Loss: 0.6902, KL Div: -0.0000\n",
            "Epoch[24/30], Step [314/322], Reconst Loss: 0.6763, KL Div: -0.0000\n",
            "Epoch[25/30], Step [157/322], Reconst Loss: 0.6902, KL Div: -0.0000\n",
            "Epoch[25/30], Step [314/322], Reconst Loss: 0.6763, KL Div: -0.0000\n",
            "Epoch[26/30], Step [157/322], Reconst Loss: 0.6902, KL Div: -0.0000\n",
            "Epoch[26/30], Step [314/322], Reconst Loss: 0.6763, KL Div: -0.0000\n",
            "Epoch[27/30], Step [157/322], Reconst Loss: 0.6902, KL Div: -0.0000\n",
            "Epoch[27/30], Step [314/322], Reconst Loss: 0.6763, KL Div: -0.0000\n",
            "Epoch[28/30], Step [157/322], Reconst Loss: 0.6902, KL Div: -0.0000\n",
            "Epoch[28/30], Step [314/322], Reconst Loss: 0.6763, KL Div: -0.0000\n",
            "Epoch[29/30], Step [157/322], Reconst Loss: 0.6902, KL Div: -0.0000\n",
            "Epoch[29/30], Step [314/322], Reconst Loss: 0.6763, KL Div: -0.0000\n",
            "Epoch[30/30], Step [157/322], Reconst Loss: 0.6902, KL Div: -0.0000\n",
            "Epoch[30/30], Step [314/322], Reconst Loss: 0.6763, KL Div: -0.0000\n"
          ]
        }
      ]
    },
    {
      "cell_type": "code",
      "source": [
        "plt_arr = []\n",
        "for i in vae_loss:\n",
        "  plt_arr.append(i.detach().numpy())"
      ],
      "metadata": {
        "id": "aISlkzaz6iTg"
      },
      "execution_count": 27,
      "outputs": []
    },
    {
      "cell_type": "code",
      "source": [
        "import matplotlib.pyplot as plt\n",
        "\n",
        "plt.plot(plt_arr)\n",
        "plt.show()"
      ],
      "metadata": {
        "colab": {
          "base_uri": "https://localhost:8080/",
          "height": 276
        },
        "id": "luIQiHn-eLa0",
        "outputId": "488d8dc1-959f-4a8f-bdbf-964b118be1f4"
      },
      "execution_count": 28,
      "outputs": [
        {
          "output_type": "display_data",
          "data": {
            "text/plain": [
              "<Figure size 432x288 with 1 Axes>"
            ],
            "image/png": "[encoded data removed]"
          },
          "metadata": {
            "needs_background": "light"
          }
        }
      ]
    },
    {
      "cell_type": "markdown",
      "source": [
        "Classification on VAE dataset"
      ],
      "metadata": {
        "id": "eqmKy9lsu9zl"
      }
    },
    {
      "cell_type": "code",
      "source": [
        "model.load_state_dict(torch.load(\"/content/drive/MyDrive/VAE_model\"))\n",
        "model.eval()\n",
        "train_data = []\n",
        "test_data = []\n",
        "for i in data_loader:\n",
        "  X ,  _, _ = model(i)\n",
        "  train_data.append(X)\n",
        "for i in test_data_loader:\n",
        "  X ,  _, _ = model(i)\n",
        "  test_data.append(X)"
      ],
      "metadata": {
        "colab": {
          "base_uri": "https://localhost:8080/"
        },
        "id": "kYYEraod6tDl",
        "outputId": "5181ea5d-b5b6-4aa2-cbbc-71d1a22a014b"
      },
      "execution_count": 29,
      "outputs": [
        {
          "output_type": "stream",
          "name": "stderr",
          "text": [
            "/usr/local/lib/python3.7/dist-packages/torch/nn/functional.py:1944: UserWarning: nn.functional.sigmoid is deprecated. Use torch.sigmoid instead.\n",
            "  warnings.warn(\"nn.functional.sigmoid is deprecated. Use torch.sigmoid instead.\")\n"
          ]
        }
      ]
    },
    {
      "cell_type": "code",
      "source": [
        "X_train_VAE = torch.cat(train_data).detach().numpy()\n",
        "X_test_VAE = torch.cat(test_data).detach().numpy()\n",
        "gc.collect()"
      ],
      "metadata": {
        "colab": {
          "base_uri": "https://localhost:8080/"
        },
        "id": "91YdOavRvsiX",
        "outputId": "3669f7e1-a1ea-4225-fd1f-b4045de93308"
      },
      "execution_count": 31,
      "outputs": [
        {
          "output_type": "execute_result",
          "data": {
            "text/plain": [
              "4721"
            ]
          },
          "metadata": {},
          "execution_count": 31
        }
      ]
    },
    {
      "cell_type": "code",
      "source": [
        "X_train_VAE_df = pd.DataFrame(X_train_VAE)\n",
        "X_test_VAE_df = pd.DataFrame(X_test_VAE)"
      ],
      "metadata": {
        "id": "8Usg66ROvuyS"
      },
      "execution_count": 33,
      "outputs": []
    },
    {
      "cell_type": "code",
      "source": [
        "from sklearn.ensemble import RandomForestClassifier\n",
        "clf_rae = RandomForestClassifier(max_depth=3)\n",
        "clf_rae.fit(X_train_RAE_df , y_train)\n",
        "y_pred = clf_rae.predict(X_test_RAE_df)"
      ],
      "metadata": {
        "id": "3LA_ciWPwOP8"
      },
      "execution_count": 31,
      "outputs": []
    },
    {
      "cell_type": "code",
      "source": [
        "print(classification_report(y_test,y_pred))"
      ],
      "metadata": {
        "colab": {
          "base_uri": "https://localhost:8080/"
        },
        "id": "_1APSjPuwcvv",
        "outputId": "e58a97b7-0fc1-4982-f948-32a3d2f65a0a"
      },
      "execution_count": 32,
      "outputs": [
        {
          "output_type": "stream",
          "name": "stdout",
          "text": [
            "              precision    recall  f1-score   support\n",
            "\n",
            "           0       0.85      0.98      0.91     20060\n",
            "           1       0.62      0.13      0.22      4073\n",
            "\n",
            "    accuracy                           0.84     24133\n",
            "   macro avg       0.73      0.56      0.56     24133\n",
            "weighted avg       0.81      0.84      0.79     24133\n",
            "\n"
          ]
        }
      ]
    },
    {
      "cell_type": "markdown",
      "source": [
        "# Reduce the dimenssion of the data using Principal component analysis and Linear Discriminant Analysis and compare the impact on selected machine learning model"
      ],
      "metadata": {
        "id": "9abnLUfK6oKh"
      }
    },
    {
      "cell_type": "markdown",
      "source": [
        "Undercomplete autoencoder"
      ],
      "metadata": {
        "id": "5eNGPEhC7eQW"
      }
    },
    {
      "cell_type": "code",
      "source": [
        "from sklearn.ensemble import RandomForestClassifier\n",
        "from sklearn.decomposition import PCA\n",
        "from sklearn.discriminant_analysis import LinearDiscriminantAnalysis"
      ],
      "metadata": {
        "id": "snZPyi3Ow9mu"
      },
      "execution_count": 22,
      "outputs": []
    },
    {
      "cell_type": "markdown",
      "source": [
        "PCA"
      ],
      "metadata": {
        "id": "ZiCM2FWWBmxq"
      }
    },
    {
      "cell_type": "code",
      "source": [
        "# PCA\n",
        "pca = PCA(n_components = 20)\n",
        "pca_AE_train_df = pca.fit_transform(X_train_AE_df)\n",
        "pca_AE_test_df = pca.transform(X_test_AE_df)\n",
        "\n",
        "clf_AE = RandomForestClassifier(max_depth = 3)\n",
        "clf_AE.fit(pca_AE_train_df, y_train)\n",
        "\n",
        "y_pred = clf_AE.predict(pca_AE_test_df)\n",
        "\n",
        "print(classification_report(y_test, y_pred))"
      ],
      "metadata": {
        "colab": {
          "base_uri": "https://localhost:8080/"
        },
        "id": "asI3Bbcw9sPO",
        "outputId": "461df371-b65d-4fb4-b041-fc17643c94c5"
      },
      "execution_count": 31,
      "outputs": [
        {
          "output_type": "stream",
          "name": "stdout",
          "text": [
            "              precision    recall  f1-score   support\n",
            "\n",
            "           0       0.87      1.00      0.93     19966\n",
            "           1       0.95      0.27      0.42      4167\n",
            "\n",
            "    accuracy                           0.87     24133\n",
            "   macro avg       0.91      0.63      0.67     24133\n",
            "weighted avg       0.88      0.87      0.84     24133\n",
            "\n"
          ]
        }
      ]
    },
    {
      "cell_type": "markdown",
      "source": [
        "LDA"
      ],
      "metadata": {
        "id": "lwQAk1dyBoLS"
      }
    },
    {
      "cell_type": "code",
      "source": [
        "# LDA\n",
        "lda = LinearDiscriminantAnalysis(n_components=1)\n",
        "lda_AE_train_df = lda.fit_transform(X_train_AE_df, y_train)\n",
        "lda_AE_test_df = lda.transform(X_test_AE_df)\n",
        "\n",
        "clf_AE = RandomForestClassifier(max_depth = 3)\n",
        "clf_AE.fit(lda_AE_train_df, y_train)\n",
        "\n",
        "y_pred = clf_AE.predict(lda_AE_test_df)\n",
        "\n",
        "print(classification_report(y_test, y_pred))"
      ],
      "metadata": {
        "colab": {
          "base_uri": "https://localhost:8080/"
        },
        "id": "NYcrlhZ59xzW",
        "outputId": "1769acd2-6b51-4f74-99c1-da29ba424c1b"
      },
      "execution_count": 28,
      "outputs": [
        {
          "output_type": "stream",
          "name": "stdout",
          "text": [
            "              precision    recall  f1-score   support\n",
            "\n",
            "           0       0.96      0.99      0.98     19966\n",
            "           1       0.95      0.81      0.88      4167\n",
            "\n",
            "    accuracy                           0.96     24133\n",
            "   macro avg       0.96      0.90      0.93     24133\n",
            "weighted avg       0.96      0.96      0.96     24133\n",
            "\n"
          ]
        }
      ]
    },
    {
      "cell_type": "markdown",
      "source": [
        "Regularized autoencoder"
      ],
      "metadata": {
        "id": "967UzWZXCwDK"
      }
    },
    {
      "cell_type": "markdown",
      "source": [
        "PCA"
      ],
      "metadata": {
        "id": "qiSEKZbBDSWH"
      }
    },
    {
      "cell_type": "code",
      "source": [
        "pca = PCA(n_components = 20)\n",
        "pca_RAE_train_df = pca.fit_transform(X_train_RAE_df)\n",
        "pca_RAE_test_df = pca.transform(X_test_RAE_df)\n",
        "\n",
        "clf_RAE = RandomForestClassifier(max_depth = 3)\n",
        "clf_RAE.fit(pca_RAE_train_df, y_train)\n",
        "\n",
        "y_pred = clf_RAE.predict(pca_RAE_test_df)\n",
        "\n",
        "print(classification_report(y_test, y_pred))"
      ],
      "metadata": {
        "colab": {
          "base_uri": "https://localhost:8080/"
        },
        "id": "GA4JzP6N_saZ",
        "outputId": "479f2ab4-7af3-488b-c124-8fddce176c7c"
      },
      "execution_count": 37,
      "outputs": [
        {
          "output_type": "stream",
          "name": "stdout",
          "text": [
            "              precision    recall  f1-score   support\n",
            "\n",
            "           0       0.84      0.99      0.91     19966\n",
            "           1       0.70      0.07      0.12      4167\n",
            "\n",
            "    accuracy                           0.83     24133\n",
            "   macro avg       0.77      0.53      0.52     24133\n",
            "weighted avg       0.81      0.83      0.77     24133\n",
            "\n"
          ]
        }
      ]
    },
    {
      "cell_type": "markdown",
      "source": [
        "LDA"
      ],
      "metadata": {
        "id": "5HPBr0lVDrpW"
      }
    },
    {
      "cell_type": "code",
      "source": [
        "lda = LinearDiscriminantAnalysis(n_components=1)\n",
        "lda_RAE_train_df = lda.fit_transform(X_train_RAE_df, y_train)\n",
        "lda_RAE_test_df = lda.transform(X_test_RAE_df)\n",
        "\n",
        "clf_RAE = RandomForestClassifier(max_depth = 3)\n",
        "clf_RAE.fit(lda_RAE_train_df, y_train)\n",
        "\n",
        "y_pred = clf_RAE.predict(lda_RAE_test_df)\n",
        "\n",
        "print(classification_report(y_test, y_pred))"
      ],
      "metadata": {
        "colab": {
          "base_uri": "https://localhost:8080/"
        },
        "id": "VFyoyOTHDfBK",
        "outputId": "d886b658-7fd5-4250-a456-91f3958efb81"
      },
      "execution_count": 38,
      "outputs": [
        {
          "output_type": "stream",
          "name": "stdout",
          "text": [
            "              precision    recall  f1-score   support\n",
            "\n",
            "           0       0.87      0.95      0.91     19966\n",
            "           1       0.56      0.34      0.42      4167\n",
            "\n",
            "    accuracy                           0.84     24133\n",
            "   macro avg       0.72      0.64      0.66     24133\n",
            "weighted avg       0.82      0.84      0.82     24133\n",
            "\n"
          ]
        }
      ]
    },
    {
      "cell_type": "code",
      "source": [
        ""
      ],
      "metadata": {
        "id": "M2s_WRroD-2y"
      },
      "execution_count": null,
      "outputs": []
    }
  ]
}